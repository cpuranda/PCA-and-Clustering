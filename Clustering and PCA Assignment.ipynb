{
 "cells": [
  {
   "cell_type": "markdown",
   "metadata": {},
   "source": [
    "# HELP International Countries Categorization (Clustering)"
   ]
  },
  {
   "cell_type": "markdown",
   "metadata": {},
   "source": [
    "#### This notebook is built for <font color = blue>HELP International </font> - an international humanitarian NGO which is committed to fight poverty and provide the people of backward countries with basic amenities and relief during the time of disasters and natural calamities.</font>\n",
    "\n",
    "### Business Goal\n",
    "Provide categorization of countries based on socio-economic and health factors to CEO of HELP International to decide which countries to be focus strategically for providing financial aid.\n",
    "\n",
    "\n",
    "#### This notebook contains following steps which organizes our analysis and inferences for easy consumption driving <u>data-driven  decision making</u> for HELP International CEO.\n",
    "\n",
    "- Section 1: Exploratory Data Analysis\n",
    "- Section 2: Principle Component Analysis (PCA)\n",
    "- Section 3: K-Means Clustering\n",
    "- Section 4: K-Means Cluster Profiling and Analysis\n",
    "- Section 5: Hierarchical Clustering\n",
    "- Section 6: Hierarchical Cluster Profiling and Analysis\n",
    "- Section 7: Final Analysis Summary (Final list of list of countries to be focus on)\n",
    "\n",
    "***\n",
    ">- `Created by: Chandrashekhar V Purandare`\n",
    ">- `Creation Date: 21-Feb-2010`\n",
    ">- `Modified by:Chandrashekhar V Purandare`\n",
    ">- `Last Modified Date: 24-Feb-2020`\n",
    ">- `Comments: Initial notebook creation and validation`\n",
    "***"
   ]
  },
  {
   "cell_type": "markdown",
   "metadata": {},
   "source": [
    "#### Pre-Req 1: Load required libraries "
   ]
  },
  {
   "cell_type": "code",
   "execution_count": 570,
   "metadata": {},
   "outputs": [],
   "source": [
    "# Supress Warnings\n",
    "import warnings\n",
    "warnings.filterwarnings('ignore')\n",
    "\n",
    "# Import required libraries for data manupulation\n",
    "import numpy as np\n",
    "import pandas as pd\n",
    "\n",
    "# Import required libraries for data visulization\n",
    "import matplotlib.pyplot as plt\n",
    "import seaborn as sns\n",
    "%matplotlib inline\n",
    "\n",
    "# Import required libraries for Hopkins statistic\n",
    "from sklearn.neighbors import NearestNeighbors\n",
    "from random import sample\n",
    "from numpy.random import uniform\n",
    "from math import isnan\n",
    "\n",
    "# Import required libraries for data scaling, ML modelling (Clustering) and model verification\n",
    "from sklearn.preprocessing import StandardScaler\n",
    "from sklearn.decomposition import PCA\n",
    "from sklearn.decomposition import IncrementalPCA\n",
    "from sklearn.cluster import KMeans\n",
    "from sklearn.metrics import silhouette_score\n",
    "from scipy.cluster.hierarchy import linkage\n",
    "from scipy.cluster.hierarchy import dendrogram\n",
    "from scipy.cluster.hierarchy import cut_tree"
   ]
  },
  {
   "cell_type": "markdown",
   "metadata": {},
   "source": [
    "#### Pre-Req 2: Set Pandas display options and format"
   ]
  },
  {
   "cell_type": "code",
   "execution_count": 571,
   "metadata": {},
   "outputs": [],
   "source": [
    "pd.set_option('display.max_columns', None)\n",
    "pd.set_option('display.max_rows', 200)\n",
    "pd.set_option('display.max_colwidth', -1)\n",
    "pd.options.display.float_format = '{:.5f}'.format"
   ]
  },
  {
   "cell_type": "markdown",
   "metadata": {},
   "source": [
    "## Section 1: Exploratortory Data Analysis"
   ]
  },
  {
   "cell_type": "markdown",
   "metadata": {},
   "source": [
    "### Step 1: Reading and Understanding Countries data\n",
    "\n",
    "##### <u>Important Assumption</u>: The CSV file - \"Country-data.csv\", containing the Countries data is located in the same folder in which this Jupyter notebook is present.\n",
    "\n",
    "Data Source: https://cdn.upgrad.com/UpGrad/temp/2f181ade-814a-430a-b721-769d6a9bf814/Country-data.csv"
   ]
  },
  {
   "cell_type": "markdown",
   "metadata": {},
   "source": [
    "#### 1.1 Load the countries data"
   ]
  },
  {
   "cell_type": "code",
   "execution_count": 572,
   "metadata": {},
   "outputs": [
    {
     "data": {
      "text/html": [
       "<div>\n",
       "<style scoped>\n",
       "    .dataframe tbody tr th:only-of-type {\n",
       "        vertical-align: middle;\n",
       "    }\n",
       "\n",
       "    .dataframe tbody tr th {\n",
       "        vertical-align: top;\n",
       "    }\n",
       "\n",
       "    .dataframe thead th {\n",
       "        text-align: right;\n",
       "    }\n",
       "</style>\n",
       "<table border=\"1\" class=\"dataframe\">\n",
       "  <thead>\n",
       "    <tr style=\"text-align: right;\">\n",
       "      <th></th>\n",
       "      <th>country</th>\n",
       "      <th>child_mort</th>\n",
       "      <th>exports</th>\n",
       "      <th>health</th>\n",
       "      <th>imports</th>\n",
       "      <th>income</th>\n",
       "      <th>inflation</th>\n",
       "      <th>life_expec</th>\n",
       "      <th>total_fer</th>\n",
       "      <th>gdpp</th>\n",
       "    </tr>\n",
       "  </thead>\n",
       "  <tbody>\n",
       "    <tr>\n",
       "      <td>0</td>\n",
       "      <td>Afghanistan</td>\n",
       "      <td>90.20000</td>\n",
       "      <td>10.00000</td>\n",
       "      <td>7.58000</td>\n",
       "      <td>44.90000</td>\n",
       "      <td>1610</td>\n",
       "      <td>9.44000</td>\n",
       "      <td>56.20000</td>\n",
       "      <td>5.82000</td>\n",
       "      <td>553</td>\n",
       "    </tr>\n",
       "    <tr>\n",
       "      <td>1</td>\n",
       "      <td>Albania</td>\n",
       "      <td>16.60000</td>\n",
       "      <td>28.00000</td>\n",
       "      <td>6.55000</td>\n",
       "      <td>48.60000</td>\n",
       "      <td>9930</td>\n",
       "      <td>4.49000</td>\n",
       "      <td>76.30000</td>\n",
       "      <td>1.65000</td>\n",
       "      <td>4090</td>\n",
       "    </tr>\n",
       "    <tr>\n",
       "      <td>2</td>\n",
       "      <td>Algeria</td>\n",
       "      <td>27.30000</td>\n",
       "      <td>38.40000</td>\n",
       "      <td>4.17000</td>\n",
       "      <td>31.40000</td>\n",
       "      <td>12900</td>\n",
       "      <td>16.10000</td>\n",
       "      <td>76.50000</td>\n",
       "      <td>2.89000</td>\n",
       "      <td>4460</td>\n",
       "    </tr>\n",
       "    <tr>\n",
       "      <td>3</td>\n",
       "      <td>Angola</td>\n",
       "      <td>119.00000</td>\n",
       "      <td>62.30000</td>\n",
       "      <td>2.85000</td>\n",
       "      <td>42.90000</td>\n",
       "      <td>5900</td>\n",
       "      <td>22.40000</td>\n",
       "      <td>60.10000</td>\n",
       "      <td>6.16000</td>\n",
       "      <td>3530</td>\n",
       "    </tr>\n",
       "    <tr>\n",
       "      <td>4</td>\n",
       "      <td>Antigua and Barbuda</td>\n",
       "      <td>10.30000</td>\n",
       "      <td>45.50000</td>\n",
       "      <td>6.03000</td>\n",
       "      <td>58.90000</td>\n",
       "      <td>19100</td>\n",
       "      <td>1.44000</td>\n",
       "      <td>76.80000</td>\n",
       "      <td>2.13000</td>\n",
       "      <td>12200</td>\n",
       "    </tr>\n",
       "  </tbody>\n",
       "</table>\n",
       "</div>"
      ],
      "text/plain": [
       "               country  child_mort  exports  health  imports  income  \\\n",
       "0  Afghanistan         90.20000    10.00000 7.58000 44.90000  1610     \n",
       "1  Albania             16.60000    28.00000 6.55000 48.60000  9930     \n",
       "2  Algeria             27.30000    38.40000 4.17000 31.40000  12900    \n",
       "3  Angola              119.00000   62.30000 2.85000 42.90000  5900     \n",
       "4  Antigua and Barbuda 10.30000    45.50000 6.03000 58.90000  19100    \n",
       "\n",
       "   inflation  life_expec  total_fer   gdpp  \n",
       "0 9.44000    56.20000    5.82000     553    \n",
       "1 4.49000    76.30000    1.65000     4090   \n",
       "2 16.10000   76.50000    2.89000     4460   \n",
       "3 22.40000   60.10000    6.16000     3530   \n",
       "4 1.44000    76.80000    2.13000     12200  "
      ]
     },
     "execution_count": 572,
     "metadata": {},
     "output_type": "execute_result"
    }
   ],
   "source": [
    "df_countries = pd.read_csv('Country-data.csv')\n",
    "# Verify the data is loaded properly in dataframe\n",
    "df_countries.head()"
   ]
  },
  {
   "cell_type": "markdown",
   "metadata": {},
   "source": [
    "#### 1.2 Check the strcture of the data (Normal routine checks)"
   ]
  },
  {
   "cell_type": "code",
   "execution_count": 573,
   "metadata": {},
   "outputs": [
    {
     "name": "stdout",
     "output_type": "stream",
     "text": [
      "Countries data set contains 10 colmuns and 167 rows.\n"
     ]
    }
   ],
   "source": [
    "# Check the total number of rows and columns present in data set\n",
    "print(\"Countries data set contains {0} colmuns and {1} rows.\".format(df_countries.shape[1], df_countries.shape[0]))"
   ]
  },
  {
   "cell_type": "code",
   "execution_count": 574,
   "metadata": {},
   "outputs": [
    {
     "data": {
      "text/html": [
       "<div>\n",
       "<style scoped>\n",
       "    .dataframe tbody tr th:only-of-type {\n",
       "        vertical-align: middle;\n",
       "    }\n",
       "\n",
       "    .dataframe tbody tr th {\n",
       "        vertical-align: top;\n",
       "    }\n",
       "\n",
       "    .dataframe thead th {\n",
       "        text-align: right;\n",
       "    }\n",
       "</style>\n",
       "<table border=\"1\" class=\"dataframe\">\n",
       "  <thead>\n",
       "    <tr style=\"text-align: right;\">\n",
       "      <th></th>\n",
       "      <th>count</th>\n",
       "      <th>mean</th>\n",
       "      <th>std</th>\n",
       "      <th>min</th>\n",
       "      <th>25%</th>\n",
       "      <th>50%</th>\n",
       "      <th>75%</th>\n",
       "      <th>max</th>\n",
       "    </tr>\n",
       "  </thead>\n",
       "  <tbody>\n",
       "    <tr>\n",
       "      <td>child_mort</td>\n",
       "      <td>167.00000</td>\n",
       "      <td>38.27006</td>\n",
       "      <td>40.32893</td>\n",
       "      <td>2.60000</td>\n",
       "      <td>8.25000</td>\n",
       "      <td>19.30000</td>\n",
       "      <td>62.10000</td>\n",
       "      <td>208.00000</td>\n",
       "    </tr>\n",
       "    <tr>\n",
       "      <td>exports</td>\n",
       "      <td>167.00000</td>\n",
       "      <td>41.10898</td>\n",
       "      <td>27.41201</td>\n",
       "      <td>0.10900</td>\n",
       "      <td>23.80000</td>\n",
       "      <td>35.00000</td>\n",
       "      <td>51.35000</td>\n",
       "      <td>200.00000</td>\n",
       "    </tr>\n",
       "    <tr>\n",
       "      <td>health</td>\n",
       "      <td>167.00000</td>\n",
       "      <td>6.81569</td>\n",
       "      <td>2.74684</td>\n",
       "      <td>1.81000</td>\n",
       "      <td>4.92000</td>\n",
       "      <td>6.32000</td>\n",
       "      <td>8.60000</td>\n",
       "      <td>17.90000</td>\n",
       "    </tr>\n",
       "    <tr>\n",
       "      <td>imports</td>\n",
       "      <td>167.00000</td>\n",
       "      <td>46.89021</td>\n",
       "      <td>24.20959</td>\n",
       "      <td>0.06590</td>\n",
       "      <td>30.20000</td>\n",
       "      <td>43.30000</td>\n",
       "      <td>58.75000</td>\n",
       "      <td>174.00000</td>\n",
       "    </tr>\n",
       "    <tr>\n",
       "      <td>income</td>\n",
       "      <td>167.00000</td>\n",
       "      <td>17144.68862</td>\n",
       "      <td>19278.06770</td>\n",
       "      <td>609.00000</td>\n",
       "      <td>3355.00000</td>\n",
       "      <td>9960.00000</td>\n",
       "      <td>22800.00000</td>\n",
       "      <td>125000.00000</td>\n",
       "    </tr>\n",
       "    <tr>\n",
       "      <td>inflation</td>\n",
       "      <td>167.00000</td>\n",
       "      <td>7.78183</td>\n",
       "      <td>10.57070</td>\n",
       "      <td>-4.21000</td>\n",
       "      <td>1.81000</td>\n",
       "      <td>5.39000</td>\n",
       "      <td>10.75000</td>\n",
       "      <td>104.00000</td>\n",
       "    </tr>\n",
       "    <tr>\n",
       "      <td>life_expec</td>\n",
       "      <td>167.00000</td>\n",
       "      <td>70.55569</td>\n",
       "      <td>8.89317</td>\n",
       "      <td>32.10000</td>\n",
       "      <td>65.30000</td>\n",
       "      <td>73.10000</td>\n",
       "      <td>76.80000</td>\n",
       "      <td>82.80000</td>\n",
       "    </tr>\n",
       "    <tr>\n",
       "      <td>total_fer</td>\n",
       "      <td>167.00000</td>\n",
       "      <td>2.94796</td>\n",
       "      <td>1.51385</td>\n",
       "      <td>1.15000</td>\n",
       "      <td>1.79500</td>\n",
       "      <td>2.41000</td>\n",
       "      <td>3.88000</td>\n",
       "      <td>7.49000</td>\n",
       "    </tr>\n",
       "    <tr>\n",
       "      <td>gdpp</td>\n",
       "      <td>167.00000</td>\n",
       "      <td>12964.15569</td>\n",
       "      <td>18328.70481</td>\n",
       "      <td>231.00000</td>\n",
       "      <td>1330.00000</td>\n",
       "      <td>4660.00000</td>\n",
       "      <td>14050.00000</td>\n",
       "      <td>105000.00000</td>\n",
       "    </tr>\n",
       "  </tbody>\n",
       "</table>\n",
       "</div>"
      ],
      "text/plain": [
       "               count        mean         std       min        25%        50%  \\\n",
       "child_mort 167.00000 38.27006    40.32893    2.60000   8.25000    19.30000     \n",
       "exports    167.00000 41.10898    27.41201    0.10900   23.80000   35.00000     \n",
       "health     167.00000 6.81569     2.74684     1.81000   4.92000    6.32000      \n",
       "imports    167.00000 46.89021    24.20959    0.06590   30.20000   43.30000     \n",
       "income     167.00000 17144.68862 19278.06770 609.00000 3355.00000 9960.00000   \n",
       "inflation  167.00000 7.78183     10.57070    -4.21000  1.81000    5.39000      \n",
       "life_expec 167.00000 70.55569    8.89317     32.10000  65.30000   73.10000     \n",
       "total_fer  167.00000 2.94796     1.51385     1.15000   1.79500    2.41000      \n",
       "gdpp       167.00000 12964.15569 18328.70481 231.00000 1330.00000 4660.00000   \n",
       "\n",
       "                   75%          max  \n",
       "child_mort 62.10000    208.00000     \n",
       "exports    51.35000    200.00000     \n",
       "health     8.60000     17.90000      \n",
       "imports    58.75000    174.00000     \n",
       "income     22800.00000 125000.00000  \n",
       "inflation  10.75000    104.00000     \n",
       "life_expec 76.80000    82.80000      \n",
       "total_fer  3.88000     7.49000       \n",
       "gdpp       14050.00000 105000.00000  "
      ]
     },
     "execution_count": 574,
     "metadata": {},
     "output_type": "execute_result"
    }
   ],
   "source": [
    "# Get the descriptive statistics for countries price data set\n",
    "df_countries.describe().T"
   ]
  },
  {
   "cell_type": "code",
   "execution_count": 575,
   "metadata": {},
   "outputs": [
    {
     "name": "stdout",
     "output_type": "stream",
     "text": [
      "<class 'pandas.core.frame.DataFrame'>\n",
      "RangeIndex: 167 entries, 0 to 166\n",
      "Data columns (total 10 columns):\n",
      "country       167 non-null object\n",
      "child_mort    167 non-null float64\n",
      "exports       167 non-null float64\n",
      "health        167 non-null float64\n",
      "imports       167 non-null float64\n",
      "income        167 non-null int64\n",
      "inflation     167 non-null float64\n",
      "life_expec    167 non-null float64\n",
      "total_fer     167 non-null float64\n",
      "gdpp          167 non-null int64\n",
      "dtypes: float64(7), int64(2), object(1)\n",
      "memory usage: 13.2+ KB\n"
     ]
    }
   ],
   "source": [
    "# Get the info about data set\n",
    "df_countries.info()"
   ]
  },
  {
   "cell_type": "markdown",
   "metadata": {},
   "source": [
    "### Step 2 : Data Cleaning"
   ]
  },
  {
   "cell_type": "markdown",
   "metadata": {},
   "source": [
    "#### 2.1 Missing data analysis"
   ]
  },
  {
   "cell_type": "code",
   "execution_count": 576,
   "metadata": {},
   "outputs": [
    {
     "data": {
      "text/plain": [
       "country       0\n",
       "child_mort    0\n",
       "exports       0\n",
       "health        0\n",
       "imports       0\n",
       "income        0\n",
       "inflation     0\n",
       "life_expec    0\n",
       "total_fer     0\n",
       "gdpp          0\n",
       "dtype: int64"
      ]
     },
     "execution_count": 576,
     "metadata": {},
     "output_type": "execute_result"
    }
   ],
   "source": [
    "# Check for any null values\n",
    "df_countries.isnull().sum()"
   ]
  },
  {
   "cell_type": "markdown",
   "metadata": {},
   "source": [
    "#### <u>Analysis Summary</u>: It is clear from the above checks that there are <u>no missing values</u> in the data which needs to be treated. \n"
   ]
  },
  {
   "cell_type": "markdown",
   "metadata": {},
   "source": [
    "#### 2.2 Duplicate data analysis"
   ]
  },
  {
   "cell_type": "code",
   "execution_count": 577,
   "metadata": {},
   "outputs": [
    {
     "data": {
      "text/html": [
       "<div>\n",
       "<style scoped>\n",
       "    .dataframe tbody tr th:only-of-type {\n",
       "        vertical-align: middle;\n",
       "    }\n",
       "\n",
       "    .dataframe tbody tr th {\n",
       "        vertical-align: top;\n",
       "    }\n",
       "\n",
       "    .dataframe thead th {\n",
       "        text-align: right;\n",
       "    }\n",
       "</style>\n",
       "<table border=\"1\" class=\"dataframe\">\n",
       "  <thead>\n",
       "    <tr style=\"text-align: right;\">\n",
       "      <th></th>\n",
       "      <th>country</th>\n",
       "      <th>child_mort</th>\n",
       "      <th>exports</th>\n",
       "      <th>health</th>\n",
       "      <th>imports</th>\n",
       "      <th>income</th>\n",
       "      <th>inflation</th>\n",
       "      <th>life_expec</th>\n",
       "      <th>total_fer</th>\n",
       "      <th>gdpp</th>\n",
       "    </tr>\n",
       "  </thead>\n",
       "  <tbody>\n",
       "  </tbody>\n",
       "</table>\n",
       "</div>"
      ],
      "text/plain": [
       "Empty DataFrame\n",
       "Columns: [country, child_mort, exports, health, imports, income, inflation, life_expec, total_fer, gdpp]\n",
       "Index: []"
      ]
     },
     "execution_count": 577,
     "metadata": {},
     "output_type": "execute_result"
    }
   ],
   "source": [
    "# Verify if any duplicate rows exists for all columns\n",
    "df_countries.loc[df_countries.duplicated()]"
   ]
  },
  {
   "cell_type": "markdown",
   "metadata": {},
   "source": [
    "#### <u>Analysis Summary</u>: It can be noticed from the above output of duplicate check that there are <u>no duplicate rows</u> in the data which needs to be corrected. "
   ]
  },
  {
   "cell_type": "markdown",
   "metadata": {},
   "source": [
    "#### 2.3 Add ID column (which will be useful while performing cluster profiling)"
   ]
  },
  {
   "cell_type": "code",
   "execution_count": 578,
   "metadata": {},
   "outputs": [
    {
     "data": {
      "text/html": [
       "<div>\n",
       "<style scoped>\n",
       "    .dataframe tbody tr th:only-of-type {\n",
       "        vertical-align: middle;\n",
       "    }\n",
       "\n",
       "    .dataframe tbody tr th {\n",
       "        vertical-align: top;\n",
       "    }\n",
       "\n",
       "    .dataframe thead th {\n",
       "        text-align: right;\n",
       "    }\n",
       "</style>\n",
       "<table border=\"1\" class=\"dataframe\">\n",
       "  <thead>\n",
       "    <tr style=\"text-align: right;\">\n",
       "      <th></th>\n",
       "      <th>country</th>\n",
       "      <th>child_mort</th>\n",
       "      <th>exports</th>\n",
       "      <th>health</th>\n",
       "      <th>imports</th>\n",
       "      <th>income</th>\n",
       "      <th>inflation</th>\n",
       "      <th>life_expec</th>\n",
       "      <th>total_fer</th>\n",
       "      <th>gdpp</th>\n",
       "      <th>ID</th>\n",
       "    </tr>\n",
       "  </thead>\n",
       "  <tbody>\n",
       "    <tr>\n",
       "      <td>0</td>\n",
       "      <td>Afghanistan</td>\n",
       "      <td>90.20000</td>\n",
       "      <td>10.00000</td>\n",
       "      <td>7.58000</td>\n",
       "      <td>44.90000</td>\n",
       "      <td>1610</td>\n",
       "      <td>9.44000</td>\n",
       "      <td>56.20000</td>\n",
       "      <td>5.82000</td>\n",
       "      <td>553</td>\n",
       "      <td>100</td>\n",
       "    </tr>\n",
       "    <tr>\n",
       "      <td>1</td>\n",
       "      <td>Albania</td>\n",
       "      <td>16.60000</td>\n",
       "      <td>28.00000</td>\n",
       "      <td>6.55000</td>\n",
       "      <td>48.60000</td>\n",
       "      <td>9930</td>\n",
       "      <td>4.49000</td>\n",
       "      <td>76.30000</td>\n",
       "      <td>1.65000</td>\n",
       "      <td>4090</td>\n",
       "      <td>101</td>\n",
       "    </tr>\n",
       "    <tr>\n",
       "      <td>2</td>\n",
       "      <td>Algeria</td>\n",
       "      <td>27.30000</td>\n",
       "      <td>38.40000</td>\n",
       "      <td>4.17000</td>\n",
       "      <td>31.40000</td>\n",
       "      <td>12900</td>\n",
       "      <td>16.10000</td>\n",
       "      <td>76.50000</td>\n",
       "      <td>2.89000</td>\n",
       "      <td>4460</td>\n",
       "      <td>102</td>\n",
       "    </tr>\n",
       "    <tr>\n",
       "      <td>3</td>\n",
       "      <td>Angola</td>\n",
       "      <td>119.00000</td>\n",
       "      <td>62.30000</td>\n",
       "      <td>2.85000</td>\n",
       "      <td>42.90000</td>\n",
       "      <td>5900</td>\n",
       "      <td>22.40000</td>\n",
       "      <td>60.10000</td>\n",
       "      <td>6.16000</td>\n",
       "      <td>3530</td>\n",
       "      <td>103</td>\n",
       "    </tr>\n",
       "    <tr>\n",
       "      <td>4</td>\n",
       "      <td>Antigua and Barbuda</td>\n",
       "      <td>10.30000</td>\n",
       "      <td>45.50000</td>\n",
       "      <td>6.03000</td>\n",
       "      <td>58.90000</td>\n",
       "      <td>19100</td>\n",
       "      <td>1.44000</td>\n",
       "      <td>76.80000</td>\n",
       "      <td>2.13000</td>\n",
       "      <td>12200</td>\n",
       "      <td>104</td>\n",
       "    </tr>\n",
       "  </tbody>\n",
       "</table>\n",
       "</div>"
      ],
      "text/plain": [
       "               country  child_mort  exports  health  imports  income  \\\n",
       "0  Afghanistan         90.20000    10.00000 7.58000 44.90000  1610     \n",
       "1  Albania             16.60000    28.00000 6.55000 48.60000  9930     \n",
       "2  Algeria             27.30000    38.40000 4.17000 31.40000  12900    \n",
       "3  Angola              119.00000   62.30000 2.85000 42.90000  5900     \n",
       "4  Antigua and Barbuda 10.30000    45.50000 6.03000 58.90000  19100    \n",
       "\n",
       "   inflation  life_expec  total_fer   gdpp   ID  \n",
       "0 9.44000    56.20000    5.82000     553    100  \n",
       "1 4.49000    76.30000    1.65000     4090   101  \n",
       "2 16.10000   76.50000    2.89000     4460   102  \n",
       "3 22.40000   60.10000    6.16000     3530   103  \n",
       "4 1.44000    76.80000    2.13000     12200  104  "
      ]
     },
     "execution_count": 578,
     "metadata": {},
     "output_type": "execute_result"
    }
   ],
   "source": [
    "# Create an ID column - which will help us to make necessary conclusions \n",
    "# and identify that which observation goes to which cluster\n",
    "df_countries['ID'] = df_countries.index+100\n",
    "df_countries.head()       # Check the data set after adding ID column"
   ]
  },
  {
   "cell_type": "markdown",
   "metadata": {},
   "source": [
    "### Step 3: Outlier Analysis"
   ]
  },
  {
   "cell_type": "code",
   "execution_count": 579,
   "metadata": {},
   "outputs": [
    {
     "data": {
      "text/html": [
       "<div>\n",
       "<style scoped>\n",
       "    .dataframe tbody tr th:only-of-type {\n",
       "        vertical-align: middle;\n",
       "    }\n",
       "\n",
       "    .dataframe tbody tr th {\n",
       "        vertical-align: top;\n",
       "    }\n",
       "\n",
       "    .dataframe thead th {\n",
       "        text-align: right;\n",
       "    }\n",
       "</style>\n",
       "<table border=\"1\" class=\"dataframe\">\n",
       "  <thead>\n",
       "    <tr style=\"text-align: right;\">\n",
       "      <th></th>\n",
       "      <th>child_mort</th>\n",
       "      <th>exports</th>\n",
       "      <th>health</th>\n",
       "      <th>imports</th>\n",
       "      <th>income</th>\n",
       "      <th>inflation</th>\n",
       "      <th>life_expec</th>\n",
       "      <th>total_fer</th>\n",
       "      <th>gdpp</th>\n",
       "      <th>ID</th>\n",
       "    </tr>\n",
       "  </thead>\n",
       "  <tbody>\n",
       "    <tr>\n",
       "      <td>count</td>\n",
       "      <td>167.00000</td>\n",
       "      <td>167.00000</td>\n",
       "      <td>167.00000</td>\n",
       "      <td>167.00000</td>\n",
       "      <td>167.00000</td>\n",
       "      <td>167.00000</td>\n",
       "      <td>167.00000</td>\n",
       "      <td>167.00000</td>\n",
       "      <td>167.00000</td>\n",
       "      <td>167.00000</td>\n",
       "    </tr>\n",
       "    <tr>\n",
       "      <td>mean</td>\n",
       "      <td>38.27006</td>\n",
       "      <td>41.10898</td>\n",
       "      <td>6.81569</td>\n",
       "      <td>46.89021</td>\n",
       "      <td>17144.68862</td>\n",
       "      <td>7.78183</td>\n",
       "      <td>70.55569</td>\n",
       "      <td>2.94796</td>\n",
       "      <td>12964.15569</td>\n",
       "      <td>183.00000</td>\n",
       "    </tr>\n",
       "    <tr>\n",
       "      <td>std</td>\n",
       "      <td>40.32893</td>\n",
       "      <td>27.41201</td>\n",
       "      <td>2.74684</td>\n",
       "      <td>24.20959</td>\n",
       "      <td>19278.06770</td>\n",
       "      <td>10.57070</td>\n",
       "      <td>8.89317</td>\n",
       "      <td>1.51385</td>\n",
       "      <td>18328.70481</td>\n",
       "      <td>48.35287</td>\n",
       "    </tr>\n",
       "    <tr>\n",
       "      <td>min</td>\n",
       "      <td>2.60000</td>\n",
       "      <td>0.10900</td>\n",
       "      <td>1.81000</td>\n",
       "      <td>0.06590</td>\n",
       "      <td>609.00000</td>\n",
       "      <td>-4.21000</td>\n",
       "      <td>32.10000</td>\n",
       "      <td>1.15000</td>\n",
       "      <td>231.00000</td>\n",
       "      <td>100.00000</td>\n",
       "    </tr>\n",
       "    <tr>\n",
       "      <td>25%</td>\n",
       "      <td>8.25000</td>\n",
       "      <td>23.80000</td>\n",
       "      <td>4.92000</td>\n",
       "      <td>30.20000</td>\n",
       "      <td>3355.00000</td>\n",
       "      <td>1.81000</td>\n",
       "      <td>65.30000</td>\n",
       "      <td>1.79500</td>\n",
       "      <td>1330.00000</td>\n",
       "      <td>141.50000</td>\n",
       "    </tr>\n",
       "    <tr>\n",
       "      <td>50%</td>\n",
       "      <td>19.30000</td>\n",
       "      <td>35.00000</td>\n",
       "      <td>6.32000</td>\n",
       "      <td>43.30000</td>\n",
       "      <td>9960.00000</td>\n",
       "      <td>5.39000</td>\n",
       "      <td>73.10000</td>\n",
       "      <td>2.41000</td>\n",
       "      <td>4660.00000</td>\n",
       "      <td>183.00000</td>\n",
       "    </tr>\n",
       "    <tr>\n",
       "      <td>75%</td>\n",
       "      <td>62.10000</td>\n",
       "      <td>51.35000</td>\n",
       "      <td>8.60000</td>\n",
       "      <td>58.75000</td>\n",
       "      <td>22800.00000</td>\n",
       "      <td>10.75000</td>\n",
       "      <td>76.80000</td>\n",
       "      <td>3.88000</td>\n",
       "      <td>14050.00000</td>\n",
       "      <td>224.50000</td>\n",
       "    </tr>\n",
       "    <tr>\n",
       "      <td>90%</td>\n",
       "      <td>100.22000</td>\n",
       "      <td>70.80000</td>\n",
       "      <td>10.94000</td>\n",
       "      <td>75.42000</td>\n",
       "      <td>41220.00000</td>\n",
       "      <td>16.64000</td>\n",
       "      <td>80.40000</td>\n",
       "      <td>5.32200</td>\n",
       "      <td>41840.00000</td>\n",
       "      <td>249.40000</td>\n",
       "    </tr>\n",
       "    <tr>\n",
       "      <td>95%</td>\n",
       "      <td>116.00000</td>\n",
       "      <td>80.57000</td>\n",
       "      <td>11.57000</td>\n",
       "      <td>81.14000</td>\n",
       "      <td>48290.00000</td>\n",
       "      <td>20.87000</td>\n",
       "      <td>81.40000</td>\n",
       "      <td>5.86100</td>\n",
       "      <td>48610.00000</td>\n",
       "      <td>257.70000</td>\n",
       "    </tr>\n",
       "    <tr>\n",
       "      <td>99%</td>\n",
       "      <td>153.40000</td>\n",
       "      <td>160.48000</td>\n",
       "      <td>13.47400</td>\n",
       "      <td>146.08000</td>\n",
       "      <td>84374.00000</td>\n",
       "      <td>41.47800</td>\n",
       "      <td>82.37000</td>\n",
       "      <td>6.56360</td>\n",
       "      <td>79088.00000</td>\n",
       "      <td>264.34000</td>\n",
       "    </tr>\n",
       "    <tr>\n",
       "      <td>max</td>\n",
       "      <td>208.00000</td>\n",
       "      <td>200.00000</td>\n",
       "      <td>17.90000</td>\n",
       "      <td>174.00000</td>\n",
       "      <td>125000.00000</td>\n",
       "      <td>104.00000</td>\n",
       "      <td>82.80000</td>\n",
       "      <td>7.49000</td>\n",
       "      <td>105000.00000</td>\n",
       "      <td>266.00000</td>\n",
       "    </tr>\n",
       "  </tbody>\n",
       "</table>\n",
       "</div>"
      ],
      "text/plain": [
       "       child_mort   exports    health   imports       income  inflation  \\\n",
       "count 167.00000   167.00000 167.00000 167.00000 167.00000    167.00000    \n",
       "mean  38.27006    41.10898  6.81569   46.89021  17144.68862  7.78183      \n",
       "std   40.32893    27.41201  2.74684   24.20959  19278.06770  10.57070     \n",
       "min   2.60000     0.10900   1.81000   0.06590   609.00000    -4.21000     \n",
       "25%   8.25000     23.80000  4.92000   30.20000  3355.00000   1.81000      \n",
       "50%   19.30000    35.00000  6.32000   43.30000  9960.00000   5.39000      \n",
       "75%   62.10000    51.35000  8.60000   58.75000  22800.00000  10.75000     \n",
       "90%   100.22000   70.80000  10.94000  75.42000  41220.00000  16.64000     \n",
       "95%   116.00000   80.57000  11.57000  81.14000  48290.00000  20.87000     \n",
       "99%   153.40000   160.48000 13.47400  146.08000 84374.00000  41.47800     \n",
       "max   208.00000   200.00000 17.90000  174.00000 125000.00000 104.00000    \n",
       "\n",
       "       life_expec  total_fer         gdpp        ID  \n",
       "count 167.00000   167.00000  167.00000    167.00000  \n",
       "mean  70.55569    2.94796    12964.15569  183.00000  \n",
       "std   8.89317     1.51385    18328.70481  48.35287   \n",
       "min   32.10000    1.15000    231.00000    100.00000  \n",
       "25%   65.30000    1.79500    1330.00000   141.50000  \n",
       "50%   73.10000    2.41000    4660.00000   183.00000  \n",
       "75%   76.80000    3.88000    14050.00000  224.50000  \n",
       "90%   80.40000    5.32200    41840.00000  249.40000  \n",
       "95%   81.40000    5.86100    48610.00000  257.70000  \n",
       "99%   82.37000    6.56360    79088.00000  264.34000  \n",
       "max   82.80000    7.49000    105000.00000 266.00000  "
      ]
     },
     "execution_count": 579,
     "metadata": {},
     "output_type": "execute_result"
    }
   ],
   "source": [
    "df_train = df_countries\n",
    "df_train.describe(percentiles=[.25,.5,.75,.90,.95,.99])"
   ]
  },
  {
   "cell_type": "code",
   "execution_count": 580,
   "metadata": {},
   "outputs": [
    {
     "data": {
      "image/png": "[encoded data removed]",
      "text/plain": [
       "<Figure size 1152x1152 with 9 Axes>"
      ]
     },
     "metadata": {
      "needs_background": "light"
     },
     "output_type": "display_data"
    }
   ],
   "source": [
    "# Check outliers\n",
    "plt.figure(figsize = (16,16))\n",
    "col_list = df_train.columns[1:10]     # ignore country and ID columns\n",
    "for i in enumerate(col_list):\n",
    "    plt.subplot(3,3,i[0]+1)\n",
    "    sns.boxplot(x = i[1], data = df_train)"
   ]
  },
  {
   "cell_type": "markdown",
   "metadata": {},
   "source": [
    "#### <u>Analysis Summary</u>:\n",
    "1. Large number of outliers: \"exports\", \"health\" and \"imports\" columns contains large number of outliers. We will not treat those as  Clustering can create separate cluster for all these outliers.\n",
    "2. Less number of outliers with average data points: \"gdpp\" column contains overall less outlier, however, there are good number of data points than max value. We will remove these data points.\n",
    "3. Less number of outliers with very few datapoints:\"life_expec\" and \"total_fer\" columns has only 3 and 1 outliers, which we will cap.\n",
    "4. Though, \"income\" and \"inflation\" columns has 8 & 5 outliers respectively, we will not remove these outliers as we might miss on some important observations about social economic condtions for countires having representing these outliers."
   ]
  },
  {
   "cell_type": "code",
   "execution_count": 581,
   "metadata": {},
   "outputs": [
    {
     "data": {
      "text/plain": [
       "(163, 11)"
      ]
     },
     "execution_count": 581,
     "metadata": {},
     "output_type": "execute_result"
    }
   ],
   "source": [
    "# Remove the outliers for \"gdpp\"\n",
    "q1 = df_train['gdpp'].quantile(0.01)\n",
    "q4 = df_train['gdpp'].quantile(0.99)\n",
    "df_train = df_train[(df_train['gdpp']>=q1) & (df_train['gdpp']<=q4)]\n",
    "df_train.shape"
   ]
  },
  {
   "cell_type": "code",
   "execution_count": 582,
   "metadata": {},
   "outputs": [],
   "source": [
    "# Cap outliers for \"life_expec\" and \"total_fer\" columns\n",
    "percentiles = df_train['life_expec'].quantile([0.01,0.99]).values\n",
    "df_train['life_expec'][df_train['life_expec'] <= percentiles[0]] = percentiles[0]\n",
    "df_train['life_expec'][df_train['life_expec'] >= percentiles[1]] = percentiles[1]\n",
    "percentiles = df_train['total_fer'].quantile([0.01,0.99]).values\n",
    "df_train['total_fer'][df_train['total_fer'] <= percentiles[0]] = percentiles[0]\n",
    "df_train['total_fer'][df_train['total_fer'] >= percentiles[1]] = percentiles[1]"
   ]
  },
  {
   "cell_type": "code",
   "execution_count": 583,
   "metadata": {},
   "outputs": [
    {
     "data": {
      "image/png": "[encoded data removed]",
      "text/plain": [
       "<Figure size 1008x288 with 3 Axes>"
      ]
     },
     "metadata": {
      "needs_background": "light"
     },
     "output_type": "display_data"
    }
   ],
   "source": [
    "# Check outliers\n",
    "plt.figure(figsize = (14,4))\n",
    "col_list = ['gdpp','life_expec','total_fer']\n",
    "for i in enumerate(col_list):\n",
    "    plt.subplot(1,3,i[0]+1)\n",
    "    sns.boxplot(x = i[1], data = df_train)"
   ]
  },
  {
   "cell_type": "markdown",
   "metadata": {},
   "source": [
    "As you can see from above box plots, majority of the "
   ]
  },
  {
   "cell_type": "markdown",
   "metadata": {},
   "source": [
    "## Section 2: Principle Component Analysis (PCA)"
   ]
  },
  {
   "cell_type": "markdown",
   "metadata": {},
   "source": [
    "### Step 1 : Data Preparation"
   ]
  },
  {
   "cell_type": "markdown",
   "metadata": {},
   "source": [
    "Droping Country and ID columns to prepare dataset for performing PCA"
   ]
  },
  {
   "cell_type": "code",
   "execution_count": 584,
   "metadata": {},
   "outputs": [],
   "source": [
    "# Let's first preserve the ID column, so that we can make use of it later after perfroming PCA\n",
    "lst_IDs = df_train['ID']"
   ]
  },
  {
   "cell_type": "code",
   "execution_count": 585,
   "metadata": {},
   "outputs": [
    {
     "data": {
      "text/html": [
       "<div>\n",
       "<style scoped>\n",
       "    .dataframe tbody tr th:only-of-type {\n",
       "        vertical-align: middle;\n",
       "    }\n",
       "\n",
       "    .dataframe tbody tr th {\n",
       "        vertical-align: top;\n",
       "    }\n",
       "\n",
       "    .dataframe thead th {\n",
       "        text-align: right;\n",
       "    }\n",
       "</style>\n",
       "<table border=\"1\" class=\"dataframe\">\n",
       "  <thead>\n",
       "    <tr style=\"text-align: right;\">\n",
       "      <th></th>\n",
       "      <th>child_mort</th>\n",
       "      <th>exports</th>\n",
       "      <th>health</th>\n",
       "      <th>imports</th>\n",
       "      <th>income</th>\n",
       "      <th>inflation</th>\n",
       "      <th>life_expec</th>\n",
       "      <th>total_fer</th>\n",
       "      <th>gdpp</th>\n",
       "    </tr>\n",
       "  </thead>\n",
       "  <tbody>\n",
       "    <tr>\n",
       "      <td>0</td>\n",
       "      <td>90.20000</td>\n",
       "      <td>10.00000</td>\n",
       "      <td>7.58000</td>\n",
       "      <td>44.90000</td>\n",
       "      <td>1610</td>\n",
       "      <td>9.44000</td>\n",
       "      <td>56.20000</td>\n",
       "      <td>5.82000</td>\n",
       "      <td>553</td>\n",
       "    </tr>\n",
       "    <tr>\n",
       "      <td>1</td>\n",
       "      <td>16.60000</td>\n",
       "      <td>28.00000</td>\n",
       "      <td>6.55000</td>\n",
       "      <td>48.60000</td>\n",
       "      <td>9930</td>\n",
       "      <td>4.49000</td>\n",
       "      <td>76.30000</td>\n",
       "      <td>1.65000</td>\n",
       "      <td>4090</td>\n",
       "    </tr>\n",
       "    <tr>\n",
       "      <td>2</td>\n",
       "      <td>27.30000</td>\n",
       "      <td>38.40000</td>\n",
       "      <td>4.17000</td>\n",
       "      <td>31.40000</td>\n",
       "      <td>12900</td>\n",
       "      <td>16.10000</td>\n",
       "      <td>76.50000</td>\n",
       "      <td>2.89000</td>\n",
       "      <td>4460</td>\n",
       "    </tr>\n",
       "    <tr>\n",
       "      <td>3</td>\n",
       "      <td>119.00000</td>\n",
       "      <td>62.30000</td>\n",
       "      <td>2.85000</td>\n",
       "      <td>42.90000</td>\n",
       "      <td>5900</td>\n",
       "      <td>22.40000</td>\n",
       "      <td>60.10000</td>\n",
       "      <td>6.16000</td>\n",
       "      <td>3530</td>\n",
       "    </tr>\n",
       "    <tr>\n",
       "      <td>4</td>\n",
       "      <td>10.30000</td>\n",
       "      <td>45.50000</td>\n",
       "      <td>6.03000</td>\n",
       "      <td>58.90000</td>\n",
       "      <td>19100</td>\n",
       "      <td>1.44000</td>\n",
       "      <td>76.80000</td>\n",
       "      <td>2.13000</td>\n",
       "      <td>12200</td>\n",
       "    </tr>\n",
       "  </tbody>\n",
       "</table>\n",
       "</div>"
      ],
      "text/plain": [
       "   child_mort  exports  health  imports  income  inflation  life_expec  \\\n",
       "0 90.20000    10.00000 7.58000 44.90000  1610   9.44000    56.20000      \n",
       "1 16.60000    28.00000 6.55000 48.60000  9930   4.49000    76.30000      \n",
       "2 27.30000    38.40000 4.17000 31.40000  12900  16.10000   76.50000      \n",
       "3 119.00000   62.30000 2.85000 42.90000  5900   22.40000   60.10000      \n",
       "4 10.30000    45.50000 6.03000 58.90000  19100  1.44000    76.80000      \n",
       "\n",
       "   total_fer   gdpp  \n",
       "0 5.82000     553    \n",
       "1 1.65000     4090   \n",
       "2 2.89000     4460   \n",
       "3 6.16000     3530   \n",
       "4 2.13000     12200  "
      ]
     },
     "execution_count": 585,
     "metadata": {},
     "output_type": "execute_result"
    }
   ],
   "source": [
    "df_train = df_train.drop('country', axis=1)\n",
    "df_train = df_train.drop('ID', axis=1)\n",
    "df_train.head() "
   ]
  },
  {
   "cell_type": "markdown",
   "metadata": {},
   "source": [
    "### Step 2 : Data Standardization"
   ]
  },
  {
   "cell_type": "code",
   "execution_count": 586,
   "metadata": {},
   "outputs": [
    {
     "data": {
      "text/html": [
       "<div>\n",
       "<style scoped>\n",
       "    .dataframe tbody tr th:only-of-type {\n",
       "        vertical-align: middle;\n",
       "    }\n",
       "\n",
       "    .dataframe tbody tr th {\n",
       "        vertical-align: top;\n",
       "    }\n",
       "\n",
       "    .dataframe thead th {\n",
       "        text-align: right;\n",
       "    }\n",
       "</style>\n",
       "<table border=\"1\" class=\"dataframe\">\n",
       "  <thead>\n",
       "    <tr style=\"text-align: right;\">\n",
       "      <th></th>\n",
       "      <th>child_mort</th>\n",
       "      <th>exports</th>\n",
       "      <th>health</th>\n",
       "      <th>imports</th>\n",
       "      <th>income</th>\n",
       "      <th>inflation</th>\n",
       "      <th>life_expec</th>\n",
       "      <th>total_fer</th>\n",
       "      <th>gdpp</th>\n",
       "    </tr>\n",
       "  </thead>\n",
       "  <tbody>\n",
       "    <tr>\n",
       "      <td>0</td>\n",
       "      <td>1.30119</td>\n",
       "      <td>-1.20535</td>\n",
       "      <td>0.31253</td>\n",
       "      <td>-0.05610</td>\n",
       "      <td>-0.82797</td>\n",
       "      <td>0.15345</td>\n",
       "      <td>-1.70877</td>\n",
       "      <td>1.96447</td>\n",
       "      <td>-0.72560</td>\n",
       "    </tr>\n",
       "    <tr>\n",
       "      <td>1</td>\n",
       "      <td>-0.53521</td>\n",
       "      <td>-0.49699</td>\n",
       "      <td>-0.06777</td>\n",
       "      <td>0.10528</td>\n",
       "      <td>-0.36877</td>\n",
       "      <td>-0.31115</td>\n",
       "      <td>0.66716</td>\n",
       "      <td>-0.86416</td>\n",
       "      <td>-0.50327</td>\n",
       "    </tr>\n",
       "    <tr>\n",
       "      <td>2</td>\n",
       "      <td>-0.26823</td>\n",
       "      <td>-0.08771</td>\n",
       "      <td>-0.94653</td>\n",
       "      <td>-0.64493</td>\n",
       "      <td>-0.20485</td>\n",
       "      <td>0.77856</td>\n",
       "      <td>0.69080</td>\n",
       "      <td>-0.02303</td>\n",
       "      <td>-0.48001</td>\n",
       "    </tr>\n",
       "    <tr>\n",
       "      <td>3</td>\n",
       "      <td>2.01978</td>\n",
       "      <td>0.85285</td>\n",
       "      <td>-1.43391</td>\n",
       "      <td>-0.14334</td>\n",
       "      <td>-0.59120</td>\n",
       "      <td>1.36988</td>\n",
       "      <td>-1.24777</td>\n",
       "      <td>2.19511</td>\n",
       "      <td>-0.53847</td>\n",
       "    </tr>\n",
       "    <tr>\n",
       "      <td>4</td>\n",
       "      <td>-0.69240</td>\n",
       "      <td>0.19170</td>\n",
       "      <td>-0.25977</td>\n",
       "      <td>0.55453</td>\n",
       "      <td>0.13734</td>\n",
       "      <td>-0.59743</td>\n",
       "      <td>0.72626</td>\n",
       "      <td>-0.53857</td>\n",
       "      <td>0.00653</td>\n",
       "    </tr>\n",
       "  </tbody>\n",
       "</table>\n",
       "</div>"
      ],
      "text/plain": [
       "   child_mort  exports   health  imports   income  inflation  life_expec  \\\n",
       "0 1.30119     -1.20535 0.31253  -0.05610 -0.82797 0.15345    -1.70877      \n",
       "1 -0.53521    -0.49699 -0.06777 0.10528  -0.36877 -0.31115   0.66716       \n",
       "2 -0.26823    -0.08771 -0.94653 -0.64493 -0.20485 0.77856    0.69080       \n",
       "3 2.01978     0.85285  -1.43391 -0.14334 -0.59120 1.36988    -1.24777      \n",
       "4 -0.69240    0.19170  -0.25977 0.55453  0.13734  -0.59743   0.72626       \n",
       "\n",
       "   total_fer     gdpp  \n",
       "0 1.96447    -0.72560  \n",
       "1 -0.86416   -0.50327  \n",
       "2 -0.02303   -0.48001  \n",
       "3 2.19511    -0.53847  \n",
       "4 -0.53857   0.00653   "
      ]
     },
     "execution_count": 586,
     "metadata": {},
     "output_type": "execute_result"
    }
   ],
   "source": [
    "scaler = StandardScaler()\n",
    "pca_train_data = scaler.fit_transform(df_train)\n",
    "df_scaled = pd.DataFrame(pca_train_data)\n",
    "df_scaled.columns = ['child_mort','exports','health','imports','income', \\\n",
    "                     'inflation','life_expec','total_fer','gdpp']\n",
    "df_scaled.head()"
   ]
  },
  {
   "cell_type": "code",
   "execution_count": 587,
   "metadata": {},
   "outputs": [
    {
     "data": {
      "text/plain": [
       "child_mort   0.00028 \n",
       "exports      0.00011 \n",
       "health       0.00000 \n",
       "imports      0.00009 \n",
       "income       56.46847\n",
       "inflation    0.00002 \n",
       "life_expec   0.00001 \n",
       "total_fer    0.00000 \n",
       "gdpp         43.53102\n",
       "dtype: float64"
      ]
     },
     "execution_count": 587,
     "metadata": {},
     "output_type": "execute_result"
    }
   ],
   "source": [
    "# Check the current variance of each column in the original dataframe\n",
    "100*df_train.var()/sum(df_train.var())"
   ]
  },
  {
   "cell_type": "markdown",
   "metadata": {},
   "source": [
    "### Step 3 : Applying PCA on the data"
   ]
  },
  {
   "cell_type": "code",
   "execution_count": 588,
   "metadata": {},
   "outputs": [
    {
     "data": {
      "text/plain": [
       "PCA(copy=True, iterated_power='auto', n_components=None, random_state=100,\n",
       "    svd_solver='randomized', tol=0.0, whiten=False)"
      ]
     },
     "execution_count": 588,
     "metadata": {},
     "output_type": "execute_result"
    }
   ],
   "source": [
    "# Perform PCA on the data\n",
    "pca = PCA(svd_solver = 'randomized', random_state = 100)\n",
    "pca.fit(df_scaled)"
   ]
  },
  {
   "cell_type": "code",
   "execution_count": 589,
   "metadata": {},
   "outputs": [
    {
     "data": {
      "text/plain": [
       "array([[-0.42278308,  0.25365739,  0.17439831,  0.13725079,  0.39156771,\n",
       "        -0.19837782,  0.43518485, -0.41178455,  0.39500436],\n",
       "       [ 0.10361325,  0.62327047, -0.24933419,  0.69195666, -0.04348284,\n",
       "        -0.059969  , -0.16326841,  0.07522542, -0.14840547],\n",
       "       [ 0.01214364,  0.19844138, -0.56545902, -0.25996639,  0.36658833,\n",
       "         0.63308294,  0.07862407,  0.06830217,  0.16467901],\n",
       "       [ 0.41242335,  0.0959013 ,  0.4499709 ,  0.04494619,  0.37134626,\n",
       "         0.02368635, -0.2479885 ,  0.40363014,  0.50333018],\n",
       "       [-0.14080198,  0.05322305,  0.54689967,  0.22471374, -0.22440766,\n",
       "         0.73314226,  0.09021799, -0.11661112, -0.13473228],\n",
       "       [ 0.23696121, -0.06197776,  0.00701166, -0.01743504,  0.19383215,\n",
       "         0.05827201, -0.57724981, -0.75184206, -0.0143053 ],\n",
       "       [-0.10002977,  0.68298404,  0.24157871, -0.61157636, -0.10916197,\n",
       "        -0.11261707, -0.15174922,  0.01220788, -0.20824295],\n",
       "       [ 0.72024083,  0.14441573, -0.01510948, -0.08361895, -0.2709269 ,\n",
       "        -0.01190596,  0.54443496, -0.27362157,  0.09140841],\n",
       "       [-0.18854616,  0.06796156, -0.16571964, -0.03061858, -0.63186351,\n",
       "         0.0444674 , -0.23554967, -0.05753007,  0.68659222]])"
      ]
     },
     "execution_count": 589,
     "metadata": {},
     "output_type": "execute_result"
    }
   ],
   "source": [
    "# First coponent of the first vector obtained from pca.components_\n",
    "pca.components_"
   ]
  },
  {
   "cell_type": "code",
   "execution_count": 590,
   "metadata": {},
   "outputs": [
    {
     "data": {
      "text/plain": [
       "array([0.45881081, 0.17653977, 0.12981385, 0.10562395, 0.07454655,\n",
       "       0.02225356, 0.01361851, 0.01177285, 0.00702015])"
      ]
     },
     "execution_count": 590,
     "metadata": {},
     "output_type": "execute_result"
    }
   ],
   "source": [
    "# How much variance explained by the first principal component\n",
    "pca.explained_variance_ratio_"
   ]
  },
  {
   "cell_type": "markdown",
   "metadata": {},
   "source": [
    "#### Screeplot"
   ]
  },
  {
   "cell_type": "code",
   "execution_count": 591,
   "metadata": {},
   "outputs": [
    {
     "data": {
      "image/png": "[encoded data removed]",
      "text/plain": [
       "<Figure size 720x432 with 1 Axes>"
      ]
     },
     "metadata": {
      "needs_background": "light"
     },
     "output_type": "display_data"
    }
   ],
   "source": [
    "# Plotting the cumulative variance against the number of components\n",
    "fig = plt.figure(figsize = (10,6))\n",
    "plt.plot([1,2,3,4,5,6,7,8,9], np.cumsum(pca.explained_variance_ratio_))\n",
    "plt.xlabel('Number of Components')\n",
    "plt.ylabel('Cumulative Explained Variance')\n",
    "plt.grid()"
   ]
  },
  {
   "cell_type": "markdown",
   "metadata": {},
   "source": [
    "#### <u>Analysis Summary</u>:\n",
    "Basedon the analysis of the above Screeplot, going with <u>PC as 4</u> as almost <b>94%</b> variance is explained by first 4 components"
   ]
  },
  {
   "cell_type": "markdown",
   "metadata": {},
   "source": [
    "#### Final PCA with 4 components"
   ]
  },
  {
   "cell_type": "code",
   "execution_count": 592,
   "metadata": {},
   "outputs": [],
   "source": [
    "#Using Incremental PCA for efficiency\n",
    "pca_final = IncrementalPCA(n_components=4)"
   ]
  },
  {
   "cell_type": "code",
   "execution_count": 593,
   "metadata": {},
   "outputs": [
    {
     "data": {
      "text/html": [
       "<div>\n",
       "<style scoped>\n",
       "    .dataframe tbody tr th:only-of-type {\n",
       "        vertical-align: middle;\n",
       "    }\n",
       "\n",
       "    .dataframe tbody tr th {\n",
       "        vertical-align: top;\n",
       "    }\n",
       "\n",
       "    .dataframe thead th {\n",
       "        text-align: right;\n",
       "    }\n",
       "</style>\n",
       "<table border=\"1\" class=\"dataframe\">\n",
       "  <thead>\n",
       "    <tr style=\"text-align: right;\">\n",
       "      <th></th>\n",
       "      <th>PC1</th>\n",
       "      <th>PC2</th>\n",
       "      <th>PC3</th>\n",
       "      <th>PC4</th>\n",
       "    </tr>\n",
       "  </thead>\n",
       "  <tbody>\n",
       "    <tr>\n",
       "      <td>0</td>\n",
       "      <td>-3.00288</td>\n",
       "      <td>-0.17952</td>\n",
       "      <td>0.71149</td>\n",
       "      <td>1.10333</td>\n",
       "    </tr>\n",
       "    <tr>\n",
       "      <td>1</td>\n",
       "      <td>0.46676</td>\n",
       "      <td>-0.34321</td>\n",
       "      <td>0.51074</td>\n",
       "      <td>-1.21129</td>\n",
       "    </tr>\n",
       "    <tr>\n",
       "      <td>2</td>\n",
       "      <td>-0.27520</td>\n",
       "      <td>-0.36290</td>\n",
       "      <td>-1.07801</td>\n",
       "      <td>-1.04903</td>\n",
       "    </tr>\n",
       "    <tr>\n",
       "      <td>3</td>\n",
       "      <td>-3.06943</td>\n",
       "      <td>1.39960</td>\n",
       "      <td>-1.65189</td>\n",
       "      <td>1.01809</td>\n",
       "    </tr>\n",
       "    <tr>\n",
       "      <td>4</td>\n",
       "      <td>1.08295</td>\n",
       "      <td>0.35441</td>\n",
       "      <td>0.25354</td>\n",
       "      <td>-0.71040</td>\n",
       "    </tr>\n",
       "  </tbody>\n",
       "</table>\n",
       "</div>"
      ],
      "text/plain": [
       "       PC1      PC2      PC3      PC4\n",
       "0 -3.00288 -0.17952 0.71149  1.10333 \n",
       "1 0.46676  -0.34321 0.51074  -1.21129\n",
       "2 -0.27520 -0.36290 -1.07801 -1.04903\n",
       "3 -3.06943 1.39960  -1.65189 1.01809 \n",
       "4 1.08295  0.35441  0.25354  -0.71040"
      ]
     },
     "execution_count": 593,
     "metadata": {},
     "output_type": "execute_result"
    }
   ],
   "source": [
    "pca_train_data = pca_final.fit_transform(df_scaled)\n",
    "df_pca_final = pd.DataFrame(pca_train_data)\n",
    "df_pca_final.columns = ['PC1', 'PC2','PC3','PC4']\n",
    "df_pca_final.head()"
   ]
  },
  {
   "cell_type": "markdown",
   "metadata": {},
   "source": [
    "#### Coorrelation Matrix\n",
    "Verify the correlation between the PCs"
   ]
  },
  {
   "cell_type": "code",
   "execution_count": 594,
   "metadata": {},
   "outputs": [
    {
     "data": {
      "text/plain": [
       "(4, 4)"
      ]
     },
     "execution_count": 594,
     "metadata": {},
     "output_type": "execute_result"
    }
   ],
   "source": [
    "corrmat = np.corrcoef(df_pca_final.transpose())\n",
    "corrmat.shape"
   ]
  },
  {
   "cell_type": "code",
   "execution_count": 595,
   "metadata": {},
   "outputs": [
    {
     "data": {
      "text/plain": [
       "<matplotlib.axes._subplots.AxesSubplot at 0x1da61568648>"
      ]
     },
     "execution_count": 595,
     "metadata": {},
     "output_type": "execute_result"
    },
    {
     "data": {
      "image/png": "[encoded data removed]",
      "text/plain": [
       "<Figure size 720x432 with 2 Axes>"
      ]
     },
     "metadata": {
      "needs_background": "light"
     },
     "output_type": "display_data"
    }
   ],
   "source": [
    "plt.figure(figsize=[10,6])\n",
    "sns.heatmap(df_pca_final.corr(), annot=True)"
   ]
  },
  {
   "cell_type": "markdown",
   "metadata": {},
   "source": [
    "#### <u>Analysis Summary</u>:\n",
    "As seen in above Heatmap, there is zero (0) corelation between all the 4 components."
   ]
  },
  {
   "cell_type": "code",
   "execution_count": 596,
   "metadata": {},
   "outputs": [
    {
     "data": {
      "image/png": "[encoded data removed]",
      "text/plain": [
       "<Figure size 576x576 with 1 Axes>"
      ]
     },
     "metadata": {
      "needs_background": "light"
     },
     "output_type": "display_data"
    }
   ],
   "source": [
    "fig = plt.figure(figsize = (8,8))\n",
    "plt.scatter(df_pca_final.PC1, df_pca_final.PC2)\n",
    "plt.xlabel('Principal Component 1')\n",
    "plt.ylabel('Principal Component 2')\n",
    "plt.tight_layout()"
   ]
  },
  {
   "cell_type": "markdown",
   "metadata": {},
   "source": [
    "## Section 3: K-Means Clustering"
   ]
  },
  {
   "cell_type": "markdown",
   "metadata": {},
   "source": [
    "### Step 1 : Hopkins Statistics\n",
    "\n",
    "The Hopkins statistics is used to assess the clustering tendency of a dataset by measuring the probability that a given data set is generated by a uniform data distribution.  Hopkins Statistics help to decide whether clusters can be formed for the given dataset. If the values are:\n",
    "- Hopkins Statistics value between 0.01 - 0.3 indicates low chances of clustering.\n",
    "- If Hopkins Statistics value is around 0.5 we consider datapoint are Random in the dataset.\n",
    "- When Hopkins Statistics value is between 0.7 - 0.99 there is high chance of clustering."
   ]
  },
  {
   "cell_type": "code",
   "execution_count": 597,
   "metadata": {},
   "outputs": [],
   "source": [
    "def hopkins(X):\n",
    "    d = X.shape[1]\n",
    "    #d = len(vars) # columns\n",
    "    n = len(X) # rows\n",
    "    m = int(0.1 * n) \n",
    "    nbrs = NearestNeighbors(n_neighbors=1).fit(X.values)\n",
    " \n",
    "    rand_X = sample(range(0, n, 1), m)\n",
    " \n",
    "    ujd = []\n",
    "    wjd = []\n",
    "    for j in range(0, m):\n",
    "        u_dist, _ = nbrs.kneighbors(uniform(np.amin(X,axis=0),np.amax(X,axis=0),d).reshape(1, -1), 2, return_distance=True)\n",
    "        ujd.append(u_dist[0][1])\n",
    "        w_dist, _ = nbrs.kneighbors(X.iloc[rand_X[j]].values.reshape(1, -1), 2, return_distance=True)\n",
    "        wjd.append(w_dist[0][1])\n",
    " \n",
    "    H = sum(ujd) / (sum(ujd) + sum(wjd))\n",
    "    if isnan(H):\n",
    "        print(ujd, wjd)\n",
    "        H = 0\n",
    " \n",
    "    return H"
   ]
  },
  {
   "cell_type": "code",
   "execution_count": 598,
   "metadata": {},
   "outputs": [
    {
     "name": "stdout",
     "output_type": "stream",
     "text": [
      "Hopkins Statistics value : 0.84\n"
     ]
    }
   ],
   "source": [
    "print(\"Hopkins Statistics value : {}\".format(round(hopkins(df_pca_final),2))) "
   ]
  },
  {
   "cell_type": "markdown",
   "metadata": {},
   "source": [
    "#### <u>Analysis Summary</u>:\n",
    "Since the Hopkins Statistics value is between 0.7 - 0.99, there is a high chance of clustering to be formed for our data set."
   ]
  },
  {
   "cell_type": "markdown",
   "metadata": {},
   "source": [
    "### Step 2 : Execute K- Means Clustering Iterations to find optimal number of clusters (best k)"
   ]
  },
  {
   "cell_type": "markdown",
   "metadata": {},
   "source": [
    "Let run first iteration of K-Means clustering with K = 3"
   ]
  },
  {
   "cell_type": "code",
   "execution_count": 599,
   "metadata": {},
   "outputs": [
    {
     "data": {
      "text/plain": [
       "KMeans(algorithm='auto', copy_x=True, init='k-means++', max_iter=50,\n",
       "       n_clusters=3, n_init=10, n_jobs=None, precompute_distances='auto',\n",
       "       random_state=100, tol=0.0001, verbose=0)"
      ]
     },
     "execution_count": 599,
     "metadata": {},
     "output_type": "execute_result"
    }
   ],
   "source": [
    "# K-Means with K=3\n",
    "kmeans_model_cl3 = KMeans(n_clusters = 3, max_iter=50, random_state = 100)\n",
    "kmeans_model_cl3.fit(df_pca_final)"
   ]
  },
  {
   "cell_type": "markdown",
   "metadata": {},
   "source": [
    "#### 2.1 Silhouette Analysis\n",
    "\n",
    "* The value of the silhouette score range lies between -1 to 1. \n",
    "\n",
    "* A score closer to 1 indicates that the data point is very similar to other data points in the cluster, \n",
    "\n",
    "* A score closer to -1 indicates that the data point is not similar to the data points in its cluster."
   ]
  },
  {
   "cell_type": "code",
   "execution_count": 600,
   "metadata": {},
   "outputs": [
    {
     "name": "stdout",
     "output_type": "stream",
     "text": [
      "For n_clusters=2, the silhouette score is 0.3226359952657854\n",
      "For n_clusters=3, the silhouette score is 0.3399784482307202\n",
      "For n_clusters=4, the silhouette score is 0.3574453912220109\n",
      "For n_clusters=5, the silhouette score is 0.28471733833242174\n",
      "For n_clusters=6, the silhouette score is 0.30059197524463593\n",
      "For n_clusters=7, the silhouette score is 0.28081196432274447\n",
      "For n_clusters=8, the silhouette score is 0.27806296211534953\n",
      "For n_clusters=9, the silhouette score is 0.2723357607018617\n",
      "For n_clusters=10, the silhouette score is 0.2716737004676685\n",
      "For n_clusters=11, the silhouette score is 0.27752277987327617\n",
      "For n_clusters=12, the silhouette score is 0.25351602152398284\n",
      "For n_clusters=13, the silhouette score is 0.28576286138842344\n",
      "For n_clusters=14, the silhouette score is 0.2896489861694691\n"
     ]
    }
   ],
   "source": [
    "range_n_clusters = range(2,15)\n",
    "sse_ = []\n",
    "for num_clusters in range_n_clusters:\n",
    "    # intialise kmeans\n",
    "    kmeans = KMeans(n_clusters=num_clusters, max_iter=50)\n",
    "    kmeans.fit(df_pca_final)\n",
    "    \n",
    "    cluster_labels = kmeans.labels_\n",
    "    sse_.append([num_clusters, silhouette_score(df_pca_final, kmeans.labels_)])\n",
    "    # silhouette score\n",
    "    silhouette_avg = silhouette_score(df_pca_final, cluster_labels)\n",
    "    print(\"For n_clusters={0}, the silhouette score is {1}\".format(num_clusters, silhouette_avg))"
   ]
  },
  {
   "cell_type": "code",
   "execution_count": 601,
   "metadata": {},
   "outputs": [
    {
     "data": {
      "image/png": "[encoded data removed]",
      "text/plain": [
       "<Figure size 432x288 with 1 Axes>"
      ]
     },
     "metadata": {
      "needs_background": "light"
     },
     "output_type": "display_data"
    }
   ],
   "source": [
    "plt.plot(pd.DataFrame(sse_)[0], pd.DataFrame(sse_)[1])\n",
    "plt.grid()"
   ]
  },
  {
   "cell_type": "markdown",
   "metadata": {},
   "source": [
    "#### <u>Analysis Summary</u>:\n",
    "Based on the analysis of the silhouette scores for clusters and silhouette scores plot we can conclude that the score is dropping after 5th cluster. However, there is not much of the difference for silhouette score for cluster 4 and 5 and hence we can go with 4 clusters.\n",
    "\n",
    "Let's confirm our understanding using another method to choose optimal number of clusters (k), which is elbow-curve/SSD."
   ]
  },
  {
   "cell_type": "markdown",
   "metadata": {},
   "source": [
    "#### 2.2 Elbow-curve / SSD"
   ]
  },
  {
   "cell_type": "code",
   "execution_count": 602,
   "metadata": {},
   "outputs": [],
   "source": [
    "ssd = []\n",
    "for num_clusters in list(range(1,21)):\n",
    "    model_clus = KMeans(n_clusters = num_clusters, max_iter=50)\n",
    "    model_clus.fit(df_pca_final)\n",
    "    ssd.append(model_clus.inertia_)"
   ]
  },
  {
   "cell_type": "code",
   "execution_count": 603,
   "metadata": {},
   "outputs": [
    {
     "data": {
      "image/png": "[encoded data removed]",
      "text/plain": [
       "<Figure size 432x288 with 1 Axes>"
      ]
     },
     "metadata": {
      "needs_background": "light"
     },
     "output_type": "display_data"
    }
   ],
   "source": [
    "plt.plot(ssd)\n",
    "plt.grid()"
   ]
  },
  {
   "cell_type": "markdown",
   "metadata": {},
   "source": [
    "#### <u>Analysis Summary</u>:\n",
    "Based on the analysis of above silhouette score plot, we can conclude that highest peak is at k=4 and in sum of squared distances graph. We see that the elbow is in the range of 3 to 5 , so we will consider k as 4 for our final clustering model."
   ]
  },
  {
   "cell_type": "markdown",
   "metadata": {},
   "source": [
    "### Step 3 : Perform final clustering with k=4"
   ]
  },
  {
   "cell_type": "code",
   "execution_count": 604,
   "metadata": {},
   "outputs": [
    {
     "data": {
      "text/plain": [
       "KMeans(algorithm='auto', copy_x=True, init='k-means++', max_iter=50,\n",
       "       n_clusters=4, n_init=10, n_jobs=None, precompute_distances='auto',\n",
       "       random_state=100, tol=0.0001, verbose=0)"
      ]
     },
     "execution_count": 604,
     "metadata": {},
     "output_type": "execute_result"
    }
   ],
   "source": [
    "# K-Means with K=4\n",
    "kmeans_model_final = KMeans(n_clusters = 4, max_iter=50, random_state = 100)\n",
    "kmeans_model_final.fit(df_pca_final)"
   ]
  },
  {
   "cell_type": "markdown",
   "metadata": {},
   "source": [
    "## Section 4: K-Means Cluster Profiling and Analysis"
   ]
  },
  {
   "cell_type": "code",
   "execution_count": 605,
   "metadata": {},
   "outputs": [
    {
     "data": {
      "text/html": [
       "<div>\n",
       "<style scoped>\n",
       "    .dataframe tbody tr th:only-of-type {\n",
       "        vertical-align: middle;\n",
       "    }\n",
       "\n",
       "    .dataframe tbody tr th {\n",
       "        vertical-align: top;\n",
       "    }\n",
       "\n",
       "    .dataframe thead th {\n",
       "        text-align: right;\n",
       "    }\n",
       "</style>\n",
       "<table border=\"1\" class=\"dataframe\">\n",
       "  <thead>\n",
       "    <tr style=\"text-align: right;\">\n",
       "      <th></th>\n",
       "      <th>PC1</th>\n",
       "      <th>PC2</th>\n",
       "      <th>PC3</th>\n",
       "      <th>PC4</th>\n",
       "      <th>ClusterID</th>\n",
       "    </tr>\n",
       "  </thead>\n",
       "  <tbody>\n",
       "    <tr>\n",
       "      <td>0</td>\n",
       "      <td>-3.00288</td>\n",
       "      <td>-0.17952</td>\n",
       "      <td>0.71149</td>\n",
       "      <td>1.10333</td>\n",
       "      <td>0</td>\n",
       "    </tr>\n",
       "    <tr>\n",
       "      <td>1</td>\n",
       "      <td>0.46676</td>\n",
       "      <td>-0.34321</td>\n",
       "      <td>0.51074</td>\n",
       "      <td>-1.21129</td>\n",
       "      <td>2</td>\n",
       "    </tr>\n",
       "    <tr>\n",
       "      <td>2</td>\n",
       "      <td>-0.27520</td>\n",
       "      <td>-0.36290</td>\n",
       "      <td>-1.07801</td>\n",
       "      <td>-1.04903</td>\n",
       "      <td>2</td>\n",
       "    </tr>\n",
       "    <tr>\n",
       "      <td>3</td>\n",
       "      <td>-3.06943</td>\n",
       "      <td>1.39960</td>\n",
       "      <td>-1.65189</td>\n",
       "      <td>1.01809</td>\n",
       "      <td>0</td>\n",
       "    </tr>\n",
       "    <tr>\n",
       "      <td>4</td>\n",
       "      <td>1.08295</td>\n",
       "      <td>0.35441</td>\n",
       "      <td>0.25354</td>\n",
       "      <td>-0.71040</td>\n",
       "      <td>2</td>\n",
       "    </tr>\n",
       "  </tbody>\n",
       "</table>\n",
       "</div>"
      ],
      "text/plain": [
       "       PC1      PC2      PC3      PC4  ClusterID\n",
       "0 -3.00288 -0.17952 0.71149  1.10333   0        \n",
       "1 0.46676  -0.34321 0.51074  -1.21129  2        \n",
       "2 -0.27520 -0.36290 -1.07801 -1.04903  2        \n",
       "3 -3.06943 1.39960  -1.65189 1.01809   0        \n",
       "4 1.08295  0.35441  0.25354  -0.71040  2        "
      ]
     },
     "execution_count": 605,
     "metadata": {},
     "output_type": "execute_result"
    }
   ],
   "source": [
    "df_km_final = df_pca_final\n",
    "df_km_final.index = pd.RangeIndex(len(df_km_final.index))\n",
    "df_countries_cluster = pd.concat([df_km_final, pd.Series(kmeans_model_final.labels_)], axis=1)\n",
    "df_countries_cluster.columns = ['PC1', 'PC2','PC3','PC4','ClusterID']\n",
    "df_countries_cluster.head()"
   ]
  },
  {
   "cell_type": "code",
   "execution_count": 606,
   "metadata": {},
   "outputs": [
    {
     "data": {
      "text/plain": [
       "(163, 5)"
      ]
     },
     "execution_count": 606,
     "metadata": {},
     "output_type": "execute_result"
    }
   ],
   "source": [
    "df_countries_cluster.shape"
   ]
  },
  {
   "cell_type": "code",
   "execution_count": 607,
   "metadata": {},
   "outputs": [
    {
     "data": {
      "text/plain": [
       "2    85\n",
       "0    45\n",
       "1    31\n",
       "3    2 \n",
       "Name: ClusterID, dtype: int64"
      ]
     },
     "execution_count": 607,
     "metadata": {},
     "output_type": "execute_result"
    }
   ],
   "source": [
    "df_countries_cluster['ClusterID'].value_counts()"
   ]
  },
  {
   "cell_type": "code",
   "execution_count": 608,
   "metadata": {},
   "outputs": [
    {
     "data": {
      "text/plain": [
       "<matplotlib.axes._subplots.AxesSubplot at 0x1da639a4c88>"
      ]
     },
     "execution_count": 608,
     "metadata": {},
     "output_type": "execute_result"
    },
    {
     "data": {
      "image/png": "[encoded data removed]",
      "text/plain": [
       "<Figure size 432x288 with 1 Axes>"
      ]
     },
     "metadata": {
      "needs_background": "light"
     },
     "output_type": "display_data"
    }
   ],
   "source": [
    "# scatter plot for PC1, PC2 and clusterId\n",
    "sns.scatterplot(x='PC1',y='PC2',hue='ClusterID',legend='full', \\\n",
    "                data=df_countries_cluster, palette=['green','orange','brown','red'])"
   ]
  },
  {
   "cell_type": "markdown",
   "metadata": {},
   "source": [
    "#### <u>Analysis Summary</u>:\n",
    "The above scatter plot for PC1, PC2 and clusterId shows clearly that K-Means has clearly able to create the 4 clusters on our PCA applied dataset. Clustering algorithm is also able to treat the outliers and created a separate cluster for those outliers."
   ]
  },
  {
   "cell_type": "code",
   "execution_count": 609,
   "metadata": {},
   "outputs": [
    {
     "data": {
      "text/plain": [
       "<matplotlib.axes._subplots.AxesSubplot at 0x1da5f63ef88>"
      ]
     },
     "execution_count": 609,
     "metadata": {},
     "output_type": "execute_result"
    },
    {
     "data": {
      "image/png": "[encoded data removed]",
      "text/plain": [
       "<Figure size 432x288 with 1 Axes>"
      ]
     },
     "metadata": {
      "needs_background": "light"
     },
     "output_type": "display_data"
    }
   ],
   "source": [
    "# scatter plot for PC3, PC4 and clusterId\n",
    "sns.scatterplot(x='PC3',y='PC4',hue='ClusterID',legend='full', \\\n",
    "                data=df_countries_cluster,palette=['green','orange','brown','red'])"
   ]
  },
  {
   "cell_type": "markdown",
   "metadata": {},
   "source": [
    "#### <u>Analysis Summary</u>:\n",
    "The above scatter plot for PC3, PC4 and clusterId shows clearly that clusters formed by K-Means are not as clean as for PC1 and PC2 which has highest variance."
   ]
  },
  {
   "cell_type": "markdown",
   "metadata": {},
   "source": [
    "#### Merge cluster dataset with the original countries dataset"
   ]
  },
  {
   "cell_type": "code",
   "execution_count": 610,
   "metadata": {},
   "outputs": [
    {
     "data": {
      "text/html": [
       "<div>\n",
       "<style scoped>\n",
       "    .dataframe tbody tr th:only-of-type {\n",
       "        vertical-align: middle;\n",
       "    }\n",
       "\n",
       "    .dataframe tbody tr th {\n",
       "        vertical-align: top;\n",
       "    }\n",
       "\n",
       "    .dataframe thead th {\n",
       "        text-align: right;\n",
       "    }\n",
       "</style>\n",
       "<table border=\"1\" class=\"dataframe\">\n",
       "  <thead>\n",
       "    <tr style=\"text-align: right;\">\n",
       "      <th></th>\n",
       "      <th>country</th>\n",
       "      <th>child_mort</th>\n",
       "      <th>exports</th>\n",
       "      <th>health</th>\n",
       "      <th>imports</th>\n",
       "      <th>income</th>\n",
       "      <th>inflation</th>\n",
       "      <th>life_expec</th>\n",
       "      <th>total_fer</th>\n",
       "      <th>gdpp</th>\n",
       "      <th>ID</th>\n",
       "      <th>PC1</th>\n",
       "      <th>PC2</th>\n",
       "      <th>PC3</th>\n",
       "      <th>PC4</th>\n",
       "      <th>ClusterID</th>\n",
       "    </tr>\n",
       "  </thead>\n",
       "  <tbody>\n",
       "    <tr>\n",
       "      <td>0</td>\n",
       "      <td>Afghanistan</td>\n",
       "      <td>90.20000</td>\n",
       "      <td>10.00000</td>\n",
       "      <td>7.58000</td>\n",
       "      <td>44.90000</td>\n",
       "      <td>1610</td>\n",
       "      <td>9.44000</td>\n",
       "      <td>56.20000</td>\n",
       "      <td>5.82000</td>\n",
       "      <td>553</td>\n",
       "      <td>100</td>\n",
       "      <td>-3.00288</td>\n",
       "      <td>-0.17952</td>\n",
       "      <td>0.71149</td>\n",
       "      <td>1.10333</td>\n",
       "      <td>0</td>\n",
       "    </tr>\n",
       "    <tr>\n",
       "      <td>1</td>\n",
       "      <td>Albania</td>\n",
       "      <td>16.60000</td>\n",
       "      <td>28.00000</td>\n",
       "      <td>6.55000</td>\n",
       "      <td>48.60000</td>\n",
       "      <td>9930</td>\n",
       "      <td>4.49000</td>\n",
       "      <td>76.30000</td>\n",
       "      <td>1.65000</td>\n",
       "      <td>4090</td>\n",
       "      <td>101</td>\n",
       "      <td>0.46676</td>\n",
       "      <td>-0.34321</td>\n",
       "      <td>0.51074</td>\n",
       "      <td>-1.21129</td>\n",
       "      <td>2</td>\n",
       "    </tr>\n",
       "    <tr>\n",
       "      <td>2</td>\n",
       "      <td>Algeria</td>\n",
       "      <td>27.30000</td>\n",
       "      <td>38.40000</td>\n",
       "      <td>4.17000</td>\n",
       "      <td>31.40000</td>\n",
       "      <td>12900</td>\n",
       "      <td>16.10000</td>\n",
       "      <td>76.50000</td>\n",
       "      <td>2.89000</td>\n",
       "      <td>4460</td>\n",
       "      <td>102</td>\n",
       "      <td>-0.27520</td>\n",
       "      <td>-0.36290</td>\n",
       "      <td>-1.07801</td>\n",
       "      <td>-1.04903</td>\n",
       "      <td>2</td>\n",
       "    </tr>\n",
       "    <tr>\n",
       "      <td>3</td>\n",
       "      <td>Angola</td>\n",
       "      <td>119.00000</td>\n",
       "      <td>62.30000</td>\n",
       "      <td>2.85000</td>\n",
       "      <td>42.90000</td>\n",
       "      <td>5900</td>\n",
       "      <td>22.40000</td>\n",
       "      <td>60.10000</td>\n",
       "      <td>6.16000</td>\n",
       "      <td>3530</td>\n",
       "      <td>103</td>\n",
       "      <td>-3.06943</td>\n",
       "      <td>1.39960</td>\n",
       "      <td>-1.65189</td>\n",
       "      <td>1.01809</td>\n",
       "      <td>0</td>\n",
       "    </tr>\n",
       "    <tr>\n",
       "      <td>4</td>\n",
       "      <td>Antigua and Barbuda</td>\n",
       "      <td>10.30000</td>\n",
       "      <td>45.50000</td>\n",
       "      <td>6.03000</td>\n",
       "      <td>58.90000</td>\n",
       "      <td>19100</td>\n",
       "      <td>1.44000</td>\n",
       "      <td>76.80000</td>\n",
       "      <td>2.13000</td>\n",
       "      <td>12200</td>\n",
       "      <td>104</td>\n",
       "      <td>1.08295</td>\n",
       "      <td>0.35441</td>\n",
       "      <td>0.25354</td>\n",
       "      <td>-0.71040</td>\n",
       "      <td>2</td>\n",
       "    </tr>\n",
       "  </tbody>\n",
       "</table>\n",
       "</div>"
      ],
      "text/plain": [
       "               country  child_mort  exports  health  imports  income  \\\n",
       "0  Afghanistan         90.20000    10.00000 7.58000 44.90000  1610     \n",
       "1  Albania             16.60000    28.00000 6.55000 48.60000  9930     \n",
       "2  Algeria             27.30000    38.40000 4.17000 31.40000  12900    \n",
       "3  Angola              119.00000   62.30000 2.85000 42.90000  5900     \n",
       "4  Antigua and Barbuda 10.30000    45.50000 6.03000 58.90000  19100    \n",
       "\n",
       "   inflation  life_expec  total_fer   gdpp   ID      PC1      PC2      PC3  \\\n",
       "0 9.44000    56.20000    5.82000     553    100 -3.00288 -0.17952 0.71149    \n",
       "1 4.49000    76.30000    1.65000     4090   101 0.46676  -0.34321 0.51074    \n",
       "2 16.10000   76.50000    2.89000     4460   102 -0.27520 -0.36290 -1.07801   \n",
       "3 22.40000   60.10000    6.16000     3530   103 -3.06943 1.39960  -1.65189   \n",
       "4 1.44000    76.80000    2.13000     12200  104 1.08295  0.35441  0.25354    \n",
       "\n",
       "       PC4  ClusterID  \n",
       "0 1.10333   0          \n",
       "1 -1.21129  2          \n",
       "2 -1.04903  2          \n",
       "3 1.01809   0          \n",
       "4 -0.71040  2          "
      ]
     },
     "execution_count": 610,
     "metadata": {},
     "output_type": "execute_result"
    }
   ],
   "source": [
    "# Merge df_countries_cluster dataset with original df_countries dataset\n",
    "df_merged_km = pd.merge(df_countries.reset_index().drop('index', axis = 1),df_countries_cluster,left_index=True,right_index=True )\n",
    "df_merged_km.head()"
   ]
  },
  {
   "cell_type": "markdown",
   "metadata": {},
   "source": [
    "Drop PCA columns which are not required fro further cluster analysis."
   ]
  },
  {
   "cell_type": "code",
   "execution_count": 611,
   "metadata": {},
   "outputs": [
    {
     "data": {
      "text/html": [
       "<div>\n",
       "<style scoped>\n",
       "    .dataframe tbody tr th:only-of-type {\n",
       "        vertical-align: middle;\n",
       "    }\n",
       "\n",
       "    .dataframe tbody tr th {\n",
       "        vertical-align: top;\n",
       "    }\n",
       "\n",
       "    .dataframe thead th {\n",
       "        text-align: right;\n",
       "    }\n",
       "</style>\n",
       "<table border=\"1\" class=\"dataframe\">\n",
       "  <thead>\n",
       "    <tr style=\"text-align: right;\">\n",
       "      <th></th>\n",
       "      <th>country</th>\n",
       "      <th>child_mort</th>\n",
       "      <th>exports</th>\n",
       "      <th>health</th>\n",
       "      <th>imports</th>\n",
       "      <th>income</th>\n",
       "      <th>inflation</th>\n",
       "      <th>life_expec</th>\n",
       "      <th>total_fer</th>\n",
       "      <th>gdpp</th>\n",
       "      <th>ID</th>\n",
       "      <th>ClusterID</th>\n",
       "    </tr>\n",
       "  </thead>\n",
       "  <tbody>\n",
       "    <tr>\n",
       "      <td>0</td>\n",
       "      <td>Afghanistan</td>\n",
       "      <td>90.20000</td>\n",
       "      <td>10.00000</td>\n",
       "      <td>7.58000</td>\n",
       "      <td>44.90000</td>\n",
       "      <td>1610</td>\n",
       "      <td>9.44000</td>\n",
       "      <td>56.20000</td>\n",
       "      <td>5.82000</td>\n",
       "      <td>553</td>\n",
       "      <td>100</td>\n",
       "      <td>0</td>\n",
       "    </tr>\n",
       "    <tr>\n",
       "      <td>1</td>\n",
       "      <td>Albania</td>\n",
       "      <td>16.60000</td>\n",
       "      <td>28.00000</td>\n",
       "      <td>6.55000</td>\n",
       "      <td>48.60000</td>\n",
       "      <td>9930</td>\n",
       "      <td>4.49000</td>\n",
       "      <td>76.30000</td>\n",
       "      <td>1.65000</td>\n",
       "      <td>4090</td>\n",
       "      <td>101</td>\n",
       "      <td>2</td>\n",
       "    </tr>\n",
       "    <tr>\n",
       "      <td>2</td>\n",
       "      <td>Algeria</td>\n",
       "      <td>27.30000</td>\n",
       "      <td>38.40000</td>\n",
       "      <td>4.17000</td>\n",
       "      <td>31.40000</td>\n",
       "      <td>12900</td>\n",
       "      <td>16.10000</td>\n",
       "      <td>76.50000</td>\n",
       "      <td>2.89000</td>\n",
       "      <td>4460</td>\n",
       "      <td>102</td>\n",
       "      <td>2</td>\n",
       "    </tr>\n",
       "    <tr>\n",
       "      <td>3</td>\n",
       "      <td>Angola</td>\n",
       "      <td>119.00000</td>\n",
       "      <td>62.30000</td>\n",
       "      <td>2.85000</td>\n",
       "      <td>42.90000</td>\n",
       "      <td>5900</td>\n",
       "      <td>22.40000</td>\n",
       "      <td>60.10000</td>\n",
       "      <td>6.16000</td>\n",
       "      <td>3530</td>\n",
       "      <td>103</td>\n",
       "      <td>0</td>\n",
       "    </tr>\n",
       "    <tr>\n",
       "      <td>4</td>\n",
       "      <td>Antigua and Barbuda</td>\n",
       "      <td>10.30000</td>\n",
       "      <td>45.50000</td>\n",
       "      <td>6.03000</td>\n",
       "      <td>58.90000</td>\n",
       "      <td>19100</td>\n",
       "      <td>1.44000</td>\n",
       "      <td>76.80000</td>\n",
       "      <td>2.13000</td>\n",
       "      <td>12200</td>\n",
       "      <td>104</td>\n",
       "      <td>2</td>\n",
       "    </tr>\n",
       "  </tbody>\n",
       "</table>\n",
       "</div>"
      ],
      "text/plain": [
       "               country  child_mort  exports  health  imports  income  \\\n",
       "0  Afghanistan         90.20000    10.00000 7.58000 44.90000  1610     \n",
       "1  Albania             16.60000    28.00000 6.55000 48.60000  9930     \n",
       "2  Algeria             27.30000    38.40000 4.17000 31.40000  12900    \n",
       "3  Angola              119.00000   62.30000 2.85000 42.90000  5900     \n",
       "4  Antigua and Barbuda 10.30000    45.50000 6.03000 58.90000  19100    \n",
       "\n",
       "   inflation  life_expec  total_fer   gdpp   ID  ClusterID  \n",
       "0 9.44000    56.20000    5.82000     553    100  0          \n",
       "1 4.49000    76.30000    1.65000     4090   101  2          \n",
       "2 16.10000   76.50000    2.89000     4460   102  2          \n",
       "3 22.40000   60.10000    6.16000     3530   103  0          \n",
       "4 1.44000    76.80000    2.13000     12200  104  2          "
      ]
     },
     "execution_count": 611,
     "metadata": {},
     "output_type": "execute_result"
    }
   ],
   "source": [
    "df_merged_km.drop(['PC1','PC2','PC3','PC4'], axis=1, inplace=True)\n",
    "df_merged_km.head()"
   ]
  },
  {
   "cell_type": "markdown",
   "metadata": {},
   "source": [
    "Create dataframes by calculating Means for columns to compare with cluster formed"
   ]
  },
  {
   "cell_type": "code",
   "execution_count": 613,
   "metadata": {},
   "outputs": [],
   "source": [
    "df_child_mort_mean = pd.DataFrame(df_merged_km.groupby([\"ClusterID\"]).child_mort.mean())\n",
    "df_exports_mean= pd.DataFrame(df_merged_km.groupby([\"ClusterID\"]).exports.mean())\n",
    "df_health_mean = pd.DataFrame(df_merged_km.groupby([\"ClusterID\"]).health.mean())\n",
    "df_imports_mean = pd.DataFrame(df_merged_km.groupby([\"ClusterID\"]).imports.mean())\n",
    "df_income_mean = pd.DataFrame(df_merged_km.groupby([\"ClusterID\"]).income.mean())\n",
    "df_inflat_mean = pd.DataFrame(df_merged_km.groupby([\"ClusterID\"]).inflation.mean())\n",
    "df_life_expec_mean = pd.DataFrame(df_merged_km.groupby([\"ClusterID\"]).life_expec.mean())\n",
    "df_total_fer_mean = pd.DataFrame(df_merged_km.groupby([\"ClusterID\"]).total_fer.mean())\n",
    "df_gdpp_mean = pd.DataFrame(df_merged_km.groupby([\"ClusterID\"]).gdpp.mean())"
   ]
  },
  {
   "cell_type": "markdown",
   "metadata": {},
   "source": [
    "Merge dataframes with mean values for analysis"
   ]
  },
  {
   "cell_type": "code",
   "execution_count": 614,
   "metadata": {},
   "outputs": [],
   "source": [
    "df_cluster_analysis = pd.concat([pd.Series([0,1,2,3]),df_child_mort_mean,df_exports_mean, \\\n",
    "                                 df_health_mean,df_imports_mean,df_income_mean,df_inflat_mean, \\\n",
    "                                 df_life_expec_mean,df_total_fer_mean,df_gdpp_mean], axis=1)"
   ]
  },
  {
   "cell_type": "markdown",
   "metadata": {},
   "source": [
    "Reorder the columns for cluster analysis dataframe"
   ]
  },
  {
   "cell_type": "code",
   "execution_count": 615,
   "metadata": {},
   "outputs": [
    {
     "data": {
      "text/html": [
       "<div>\n",
       "<style scoped>\n",
       "    .dataframe tbody tr th:only-of-type {\n",
       "        vertical-align: middle;\n",
       "    }\n",
       "\n",
       "    .dataframe tbody tr th {\n",
       "        vertical-align: top;\n",
       "    }\n",
       "\n",
       "    .dataframe thead th {\n",
       "        text-align: right;\n",
       "    }\n",
       "</style>\n",
       "<table border=\"1\" class=\"dataframe\">\n",
       "  <thead>\n",
       "    <tr style=\"text-align: right;\">\n",
       "      <th></th>\n",
       "      <th>ClusterID</th>\n",
       "      <th>child_mort_mean</th>\n",
       "      <th>exports_mean</th>\n",
       "      <th>health_mean</th>\n",
       "      <th>imports_mean</th>\n",
       "      <th>income_mean</th>\n",
       "      <th>inflation_mean</th>\n",
       "      <th>life_expec_mean</th>\n",
       "      <th>total_fer_mean</th>\n",
       "      <th>gdpp_mean</th>\n",
       "    </tr>\n",
       "  </thead>\n",
       "  <tbody>\n",
       "    <tr>\n",
       "      <td>0</td>\n",
       "      <td>0</td>\n",
       "      <td>44.79778</td>\n",
       "      <td>44.25511</td>\n",
       "      <td>6.44867</td>\n",
       "      <td>49.83556</td>\n",
       "      <td>16326.46667</td>\n",
       "      <td>8.16609</td>\n",
       "      <td>69.14000</td>\n",
       "      <td>3.22756</td>\n",
       "      <td>12665.40000</td>\n",
       "    </tr>\n",
       "    <tr>\n",
       "      <td>1</td>\n",
       "      <td>1</td>\n",
       "      <td>25.56774</td>\n",
       "      <td>45.68416</td>\n",
       "      <td>6.86000</td>\n",
       "      <td>49.26987</td>\n",
       "      <td>20736.12903</td>\n",
       "      <td>4.73968</td>\n",
       "      <td>72.84839</td>\n",
       "      <td>2.51613</td>\n",
       "      <td>16745.25806</td>\n",
       "    </tr>\n",
       "    <tr>\n",
       "      <td>2</td>\n",
       "      <td>2</td>\n",
       "      <td>39.15412</td>\n",
       "      <td>37.39071</td>\n",
       "      <td>7.08824</td>\n",
       "      <td>44.54471</td>\n",
       "      <td>16866.14118</td>\n",
       "      <td>8.00520</td>\n",
       "      <td>70.66706</td>\n",
       "      <td>2.91024</td>\n",
       "      <td>12333.15294</td>\n",
       "    </tr>\n",
       "    <tr>\n",
       "      <td>3</td>\n",
       "      <td>3</td>\n",
       "      <td>37.35000</td>\n",
       "      <td>55.90000</td>\n",
       "      <td>5.02500</td>\n",
       "      <td>55.65000</td>\n",
       "      <td>11640.00000</td>\n",
       "      <td>4.56000</td>\n",
       "      <td>69.25000</td>\n",
       "      <td>3.60500</td>\n",
       "      <td>5035.00000</td>\n",
       "    </tr>\n",
       "  </tbody>\n",
       "</table>\n",
       "</div>"
      ],
      "text/plain": [
       "   ClusterID  child_mort_mean  exports_mean  health_mean  imports_mean  \\\n",
       "0  0         44.79778         44.25511      6.44867      49.83556        \n",
       "1  1         25.56774         45.68416      6.86000      49.26987        \n",
       "2  2         39.15412         37.39071      7.08824      44.54471        \n",
       "3  3         37.35000         55.90000      5.02500      55.65000        \n",
       "\n",
       "   income_mean  inflation_mean  life_expec_mean  total_fer_mean   gdpp_mean  \n",
       "0 16326.46667  8.16609         69.14000         3.22756         12665.40000  \n",
       "1 20736.12903  4.73968         72.84839         2.51613         16745.25806  \n",
       "2 16866.14118  8.00520         70.66706         2.91024         12333.15294  \n",
       "3 11640.00000  4.56000         69.25000         3.60500         5035.00000   "
      ]
     },
     "execution_count": 615,
     "metadata": {},
     "output_type": "execute_result"
    }
   ],
   "source": [
    "df_cluster_analysis.columns = [\"ClusterID\",\"child_mort_mean\",\"exports_mean\",\"health_mean\",\"imports_mean\",\"income_mean\",\"inflation_mean\",\"life_expec_mean\",\"total_fer_mean\",\"gdpp_mean\"]\n",
    "df_cluster_analysis"
   ]
  },
  {
   "cell_type": "markdown",
   "metadata": {},
   "source": [
    "#### Cluster analysis for Net income per person, Inflation rate and Gdpp"
   ]
  },
  {
   "cell_type": "code",
   "execution_count": 616,
   "metadata": {},
   "outputs": [
    {
     "data": {
      "image/png": "[encoded data removed]",
      "text/plain": [
       "<Figure size 1152x288 with 3 Axes>"
      ]
     },
     "metadata": {
      "needs_background": "light"
     },
     "output_type": "display_data"
    }
   ],
   "source": [
    "plt.figure(figsize = (16,4))\n",
    "plt.figure(1)\n",
    "\n",
    "# subplot 1\n",
    "plt.subplot(1, 3, 1)\n",
    "plt.title(\"Net income per person\")\n",
    "sns.barplot(df_cluster_analysis.ClusterID, df_cluster_analysis.income_mean)\n",
    "\n",
    "# subplot 2 \n",
    "plt.subplot(1, 3, 2)\n",
    "plt.title(\"Inflation rate\")\n",
    "sns.barplot(df_cluster_analysis.ClusterID, df_cluster_analysis.inflation_mean)\n",
    "\n",
    "# subplot 3\n",
    "plt.subplot(1, 3, 3)\n",
    "plt.title(\"Gdpp\")\n",
    "sns.barplot(df_cluster_analysis.ClusterID, df_cluster_analysis.gdpp_mean)\n",
    "plt.tick_params(axis ='y', rotation = 60)"
   ]
  },
  {
   "cell_type": "markdown",
   "metadata": {},
   "source": [
    "#### <u>Analysis Summary</u>:\n",
    "Countries in Cluster 1 is having highest net income per person and Gdpp, whereas countries in Cluster 0 & 2 has lower net income per person and Gdpp. Countries in cluster 3 has lowest net income per person and Gdpp, though, this cluster has only two countries. This indicates Cluster 1 contains developed countries and Cluster 0 contains under developed countries."
   ]
  },
  {
   "cell_type": "markdown",
   "metadata": {},
   "source": [
    "#### Cluster analysis for child mortality, life expectancy and total fertility"
   ]
  },
  {
   "cell_type": "code",
   "execution_count": 617,
   "metadata": {},
   "outputs": [
    {
     "data": {
      "text/plain": [
       "<matplotlib.axes._subplots.AxesSubplot at 0x1da63af2208>"
      ]
     },
     "execution_count": 617,
     "metadata": {},
     "output_type": "execute_result"
    },
    {
     "data": {
      "image/png": "[encoded data removed]",
      "text/plain": [
       "<Figure size 1152x288 with 3 Axes>"
      ]
     },
     "metadata": {
      "needs_background": "light"
     },
     "output_type": "display_data"
    }
   ],
   "source": [
    "plt.figure(figsize = (16,4))\n",
    "plt.figure(1)\n",
    "\n",
    "# subplot 1\n",
    "plt.subplot(1, 3, 1)\n",
    "plt.title(\"Child Mortality\")\n",
    "sns.barplot(df_cluster_analysis.ClusterID, df_cluster_analysis.child_mort_mean)\n",
    "\n",
    "# subplot 2 \n",
    "plt.subplot(1, 3, 2)\n",
    "plt.title(\"Life expectancy\")\n",
    "sns.barplot(df_cluster_analysis.ClusterID, df_cluster_analysis.life_expec_mean)\n",
    "\n",
    "# subplot 3\n",
    "plt.subplot(1, 3, 3)\n",
    "plt.title(\"Total fertility\")\n",
    "sns.barplot(df_cluster_analysis.ClusterID, df_cluster_analysis.total_fer_mean)"
   ]
  },
  {
   "cell_type": "markdown",
   "metadata": {},
   "source": [
    "#### <u>Analysis Summary</u>:\n",
    "Countries in Cluster 1 is having highest life expectancy and lowest child mortality. The total fertility rate is lowest for cluster 1 countries. \n",
    "\n",
    "On the contrary, countries in Cluster 0 has highest child mortality and comparatively lower life expectancy."
   ]
  },
  {
   "cell_type": "markdown",
   "metadata": {},
   "source": [
    "#### Cluster analysis for exports, imports and total health spendings"
   ]
  },
  {
   "cell_type": "code",
   "execution_count": 618,
   "metadata": {},
   "outputs": [
    {
     "data": {
      "text/plain": [
       "<matplotlib.axes._subplots.AxesSubplot at 0x1da609e10c8>"
      ]
     },
     "execution_count": 618,
     "metadata": {},
     "output_type": "execute_result"
    },
    {
     "data": {
      "image/png": "[encoded data removed]",
      "text/plain": [
       "<Figure size 1152x288 with 3 Axes>"
      ]
     },
     "metadata": {
      "needs_background": "light"
     },
     "output_type": "display_data"
    }
   ],
   "source": [
    "plt.figure(figsize = (16,4))\n",
    "plt.figure(1)\n",
    "\n",
    "# subplot 1\n",
    "plt.subplot(1, 3, 1)\n",
    "plt.title(\"Exports of goods and services\")\n",
    "sns.barplot(df_cluster_analysis.ClusterID, df_cluster_analysis.exports_mean)\n",
    "\n",
    "# subplot 2 \n",
    "plt.subplot(1, 3, 2)\n",
    "plt.title(\"Imports of goods and services\")\n",
    "sns.barplot(df_cluster_analysis.ClusterID, df_cluster_analysis.imports_mean)\n",
    "\n",
    "# subplot 3\n",
    "plt.subplot(1, 3, 3)\n",
    "plt.title(\"Total health spendings\")\n",
    "sns.barplot(df_cluster_analysis.ClusterID, df_cluster_analysis.health_mean)"
   ]
  },
  {
   "cell_type": "markdown",
   "metadata": {},
   "source": [
    "#### <u>Analysis Summary</u>:\n",
    "Countries in Cluster 0 is having lower total health spendings compared to countries in Cluster 1 & 2. Countries in Cluster 3 is having lowest total health spendings.\n",
    "\n",
    "Countries in Cluster 1 has comparatively higher rate of exports and imports compared to cluster 0 & 2. "
   ]
  },
  {
   "cell_type": "markdown",
   "metadata": {},
   "source": [
    "#### Overall cluster analysis based on 4 principal components"
   ]
  },
  {
   "cell_type": "code",
   "execution_count": 619,
   "metadata": {},
   "outputs": [
    {
     "data": {
      "image/png": "[encoded data removed]",
      "text/plain": [
       "<Figure size 864x576 with 4 Axes>"
      ]
     },
     "metadata": {
      "needs_background": "light"
     },
     "output_type": "display_data"
    }
   ],
   "source": [
    "plt.figure(figsize = (12,8))\n",
    "var = ['income', 'gdpp', 'child_mort', 'exports']\n",
    "for i in enumerate(var):\n",
    "    plt.subplot(2,2,i[0]+1)\n",
    "    sns.boxplot(x= 'ClusterID', y = i[1], data = df_merged_km)"
   ]
  },
  {
   "cell_type": "markdown",
   "metadata": {},
   "source": [
    "#### <u>Analysis Summary</u>:\n",
    "<u>Note:</u> Since, Cluster 3 contains only 2 countries, for overall comparison below, we have focused in Cluster 0,1 & 2.\n",
    "- Income and Gdpp is highest for countries in cluster 1 and lowest for countries in  cluster 0.\n",
    "- Child mortality is higher in cluster 0 counties and comparatively lower in Cluster 1 and 2.\n",
    "- Exports rate is higher for countires in Cluster 1 as compare to countries in Cluster 0 & 2.\n",
    "\n",
    "#### As per above analysis summary, we will focus on countries in Cluster 0 and 2 to find out top 10 countries which are in direst need of aid.\n",
    "We will consider the top 10 countries with the below considerations.\n",
    "1. Child mortality rate is high.\n",
    "2. Life expectancy is low\n",
    "3. Countries with lowest net income per person and Gdpp rate."
   ]
  },
  {
   "cell_type": "code",
   "execution_count": 655,
   "metadata": {
    "scrolled": true
   },
   "outputs": [
    {
     "data": {
      "text/html": [
       "<div>\n",
       "<style scoped>\n",
       "    .dataframe tbody tr th:only-of-type {\n",
       "        vertical-align: middle;\n",
       "    }\n",
       "\n",
       "    .dataframe tbody tr th {\n",
       "        vertical-align: top;\n",
       "    }\n",
       "\n",
       "    .dataframe thead th {\n",
       "        text-align: right;\n",
       "    }\n",
       "</style>\n",
       "<table border=\"1\" class=\"dataframe\">\n",
       "  <thead>\n",
       "    <tr style=\"text-align: right;\">\n",
       "      <th></th>\n",
       "      <th>country</th>\n",
       "      <th>child_mort</th>\n",
       "      <th>exports</th>\n",
       "      <th>health</th>\n",
       "      <th>imports</th>\n",
       "      <th>income</th>\n",
       "      <th>inflation</th>\n",
       "      <th>life_expec</th>\n",
       "      <th>total_fer</th>\n",
       "      <th>gdpp</th>\n",
       "      <th>ID</th>\n",
       "      <th>ClusterID</th>\n",
       "    </tr>\n",
       "  </thead>\n",
       "  <tbody>\n",
       "    <tr>\n",
       "      <td>26</td>\n",
       "      <td>Burundi</td>\n",
       "      <td>93.60000</td>\n",
       "      <td>8.92000</td>\n",
       "      <td>11.60000</td>\n",
       "      <td>39.20000</td>\n",
       "      <td>764</td>\n",
       "      <td>12.30000</td>\n",
       "      <td>57.70000</td>\n",
       "      <td>6.26000</td>\n",
       "      <td>231</td>\n",
       "      <td>126</td>\n",
       "      <td>2</td>\n",
       "    </tr>\n",
       "    <tr>\n",
       "      <td>88</td>\n",
       "      <td>Liberia</td>\n",
       "      <td>89.30000</td>\n",
       "      <td>19.10000</td>\n",
       "      <td>11.80000</td>\n",
       "      <td>92.60000</td>\n",
       "      <td>700</td>\n",
       "      <td>5.47000</td>\n",
       "      <td>60.80000</td>\n",
       "      <td>5.02000</td>\n",
       "      <td>327</td>\n",
       "      <td>188</td>\n",
       "      <td>2</td>\n",
       "    </tr>\n",
       "    <tr>\n",
       "      <td>37</td>\n",
       "      <td>Congo, Dem. Rep.</td>\n",
       "      <td>116.00000</td>\n",
       "      <td>41.10000</td>\n",
       "      <td>7.91000</td>\n",
       "      <td>49.60000</td>\n",
       "      <td>609</td>\n",
       "      <td>20.80000</td>\n",
       "      <td>57.50000</td>\n",
       "      <td>6.54000</td>\n",
       "      <td>334</td>\n",
       "      <td>137</td>\n",
       "      <td>0</td>\n",
       "    </tr>\n",
       "    <tr>\n",
       "      <td>112</td>\n",
       "      <td>Niger</td>\n",
       "      <td>123.00000</td>\n",
       "      <td>22.20000</td>\n",
       "      <td>5.16000</td>\n",
       "      <td>49.10000</td>\n",
       "      <td>814</td>\n",
       "      <td>2.55000</td>\n",
       "      <td>58.80000</td>\n",
       "      <td>7.49000</td>\n",
       "      <td>348</td>\n",
       "      <td>212</td>\n",
       "      <td>0</td>\n",
       "    </tr>\n",
       "    <tr>\n",
       "      <td>132</td>\n",
       "      <td>Sierra Leone</td>\n",
       "      <td>160.00000</td>\n",
       "      <td>16.80000</td>\n",
       "      <td>13.10000</td>\n",
       "      <td>34.50000</td>\n",
       "      <td>1220</td>\n",
       "      <td>17.20000</td>\n",
       "      <td>55.00000</td>\n",
       "      <td>5.20000</td>\n",
       "      <td>399</td>\n",
       "      <td>232</td>\n",
       "      <td>2</td>\n",
       "    </tr>\n",
       "    <tr>\n",
       "      <td>93</td>\n",
       "      <td>Madagascar</td>\n",
       "      <td>62.20000</td>\n",
       "      <td>25.00000</td>\n",
       "      <td>3.77000</td>\n",
       "      <td>43.00000</td>\n",
       "      <td>1390</td>\n",
       "      <td>8.79000</td>\n",
       "      <td>60.80000</td>\n",
       "      <td>4.60000</td>\n",
       "      <td>413</td>\n",
       "      <td>193</td>\n",
       "      <td>2</td>\n",
       "    </tr>\n",
       "    <tr>\n",
       "      <td>106</td>\n",
       "      <td>Mozambique</td>\n",
       "      <td>101.00000</td>\n",
       "      <td>31.50000</td>\n",
       "      <td>5.21000</td>\n",
       "      <td>46.20000</td>\n",
       "      <td>918</td>\n",
       "      <td>7.64000</td>\n",
       "      <td>54.50000</td>\n",
       "      <td>5.56000</td>\n",
       "      <td>419</td>\n",
       "      <td>206</td>\n",
       "      <td>2</td>\n",
       "    </tr>\n",
       "    <tr>\n",
       "      <td>31</td>\n",
       "      <td>Central African Republic</td>\n",
       "      <td>149.00000</td>\n",
       "      <td>11.80000</td>\n",
       "      <td>3.98000</td>\n",
       "      <td>26.50000</td>\n",
       "      <td>888</td>\n",
       "      <td>2.01000</td>\n",
       "      <td>47.50000</td>\n",
       "      <td>5.21000</td>\n",
       "      <td>446</td>\n",
       "      <td>131</td>\n",
       "      <td>0</td>\n",
       "    </tr>\n",
       "    <tr>\n",
       "      <td>94</td>\n",
       "      <td>Malawi</td>\n",
       "      <td>90.50000</td>\n",
       "      <td>22.80000</td>\n",
       "      <td>6.59000</td>\n",
       "      <td>34.90000</td>\n",
       "      <td>1030</td>\n",
       "      <td>12.10000</td>\n",
       "      <td>53.10000</td>\n",
       "      <td>5.31000</td>\n",
       "      <td>459</td>\n",
       "      <td>194</td>\n",
       "      <td>0</td>\n",
       "    </tr>\n",
       "    <tr>\n",
       "      <td>50</td>\n",
       "      <td>Eritrea</td>\n",
       "      <td>55.20000</td>\n",
       "      <td>4.79000</td>\n",
       "      <td>2.66000</td>\n",
       "      <td>23.30000</td>\n",
       "      <td>1420</td>\n",
       "      <td>11.60000</td>\n",
       "      <td>61.70000</td>\n",
       "      <td>4.61000</td>\n",
       "      <td>482</td>\n",
       "      <td>150</td>\n",
       "      <td>2</td>\n",
       "    </tr>\n",
       "  </tbody>\n",
       "</table>\n",
       "</div>"
      ],
      "text/plain": [
       "                      country  child_mort  exports   health  imports  income  \\\n",
       "26   Burundi                  93.60000    8.92000  11.60000 39.20000  764      \n",
       "88   Liberia                  89.30000    19.10000 11.80000 92.60000  700      \n",
       "37   Congo, Dem. Rep.         116.00000   41.10000 7.91000  49.60000  609      \n",
       "112  Niger                    123.00000   22.20000 5.16000  49.10000  814      \n",
       "132  Sierra Leone             160.00000   16.80000 13.10000 34.50000  1220     \n",
       "93   Madagascar               62.20000    25.00000 3.77000  43.00000  1390     \n",
       "106  Mozambique               101.00000   31.50000 5.21000  46.20000  918      \n",
       "31   Central African Republic 149.00000   11.80000 3.98000  26.50000  888      \n",
       "94   Malawi                   90.50000    22.80000 6.59000  34.90000  1030     \n",
       "50   Eritrea                  55.20000    4.79000  2.66000  23.30000  1420     \n",
       "\n",
       "     inflation  life_expec  total_fer  gdpp   ID  ClusterID  \n",
       "26  12.30000   57.70000    6.26000     231   126  2          \n",
       "88  5.47000    60.80000    5.02000     327   188  2          \n",
       "37  20.80000   57.50000    6.54000     334   137  0          \n",
       "112 2.55000    58.80000    7.49000     348   212  0          \n",
       "132 17.20000   55.00000    5.20000     399   232  2          \n",
       "93  8.79000    60.80000    4.60000     413   193  2          \n",
       "106 7.64000    54.50000    5.56000     419   206  2          \n",
       "31  2.01000    47.50000    5.21000     446   131  0          \n",
       "94  12.10000   53.10000    5.31000     459   194  0          \n",
       "50  11.60000   61.70000    4.61000     482   150  2          "
      ]
     },
     "execution_count": 655,
     "metadata": {},
     "output_type": "execute_result"
    }
   ],
   "source": [
    "# Filter the dataframe to get the countries part of Cluster 0\n",
    "df_focus_cluster = df_merged_km[(df_merged_km['ClusterID']==0) | (df_merged_km['ClusterID']==2)]\n",
    "# Sort DF to get top 10 countries as per the above mentioned criteria for direst need of aid.\n",
    "df_focus_cluster.sort_values(['gdpp','income','child_mort','health','inflation','life_expec','total_fer','imports','exports'], \n",
    "                      ascending=[True,True,False,True,False,True,False,False,True]).head(10)"
   ]
  },
  {
   "cell_type": "markdown",
   "metadata": {},
   "source": [
    "As per K- means clustering, the country which are direst need of aid after applying above mention criteria are:\n",
    "1. Burundi\n",
    "2. Liberia\n",
    "3. Congo, Dem. Rep\n",
    "4. Niger\n",
    "5. Sierra Leone\n",
    "6. Madagascar\n",
    "7. Mozambique\n",
    "8. Central African Republic\n",
    "9. Malawi\n",
    "10. Eritrea"
   ]
  },
  {
   "cell_type": "markdown",
   "metadata": {},
   "source": [
    "## Section 5: Hierarchical Clustering"
   ]
  },
  {
   "cell_type": "markdown",
   "metadata": {},
   "source": [
    "### Step 1 : Creating the dendrogram using Single linkage method"
   ]
  },
  {
   "cell_type": "code",
   "execution_count": 620,
   "metadata": {},
   "outputs": [
    {
     "data": {
      "image/png": "[encoded data removed]",
      "text/plain": [
       "<Figure size 1440x720 with 1 Axes>"
      ]
     },
     "metadata": {
      "needs_background": "light"
     },
     "output_type": "display_data"
    }
   ],
   "source": [
    "plt.figure(figsize = (20,10))\n",
    "mergings = linkage(df_pca_final, method = \"single\", metric='euclidean')\n",
    "dendrogram(mergings)\n",
    "plt.show()"
   ]
  },
  {
   "cell_type": "markdown",
   "metadata": {},
   "source": [
    "#### <u>Analysis Summary</u>:\n",
    "As we can clearly see from above dendrogram, single linkage doesn't produce a good enough result for us to analyze the clusters. Hence, we need to go ahead and utilize the complete linkage method and then analyze the clusters once again."
   ]
  },
  {
   "cell_type": "markdown",
   "metadata": {},
   "source": [
    "### Step 2 : Creating the dendrogram using Complete linkage method"
   ]
  },
  {
   "cell_type": "code",
   "execution_count": 621,
   "metadata": {},
   "outputs": [
    {
     "data": {
      "image/png": "[encoded data removed]",
      "text/plain": [
       "<Figure size 1440x720 with 1 Axes>"
      ]
     },
     "metadata": {
      "needs_background": "light"
     },
     "output_type": "display_data"
    }
   ],
   "source": [
    "plt.figure(figsize = (20,10))\n",
    "mergings = linkage(df_pca_final, method = \"complete\", metric='euclidean')\n",
    "dendrogram(mergings)\n",
    "plt.show()"
   ]
  },
  {
   "cell_type": "markdown",
   "metadata": {},
   "source": [
    "### Step 3 : Cutting the dendrogram at an appropriate level"
   ]
  },
  {
   "cell_type": "markdown",
   "metadata": {},
   "source": [
    "Lets cut the dendrogram vertically such that n_clusters = 4"
   ]
  },
  {
   "cell_type": "code",
   "execution_count": 622,
   "metadata": {},
   "outputs": [],
   "source": [
    "cluster_labels = pd.Series(cut_tree(mergings, n_clusters = 4).reshape(-1,))"
   ]
  },
  {
   "cell_type": "code",
   "execution_count": 624,
   "metadata": {},
   "outputs": [
    {
     "data": {
      "text/plain": [
       "(163,)"
      ]
     },
     "execution_count": 624,
     "metadata": {},
     "output_type": "execute_result"
    }
   ],
   "source": [
    "cluster_labels.shape"
   ]
  },
  {
   "cell_type": "markdown",
   "metadata": {},
   "source": [
    "## Section 6: Hirerchical Cluster Profiling and Analysis"
   ]
  },
  {
   "cell_type": "code",
   "execution_count": 625,
   "metadata": {},
   "outputs": [
    {
     "data": {
      "text/html": [
       "<div>\n",
       "<style scoped>\n",
       "    .dataframe tbody tr th:only-of-type {\n",
       "        vertical-align: middle;\n",
       "    }\n",
       "\n",
       "    .dataframe tbody tr th {\n",
       "        vertical-align: top;\n",
       "    }\n",
       "\n",
       "    .dataframe thead th {\n",
       "        text-align: right;\n",
       "    }\n",
       "</style>\n",
       "<table border=\"1\" class=\"dataframe\">\n",
       "  <thead>\n",
       "    <tr style=\"text-align: right;\">\n",
       "      <th></th>\n",
       "      <th>PC1</th>\n",
       "      <th>PC2</th>\n",
       "      <th>PC3</th>\n",
       "      <th>PC4</th>\n",
       "      <th>ClusterID</th>\n",
       "    </tr>\n",
       "  </thead>\n",
       "  <tbody>\n",
       "    <tr>\n",
       "      <td>0</td>\n",
       "      <td>-3.00288</td>\n",
       "      <td>-0.17952</td>\n",
       "      <td>0.71149</td>\n",
       "      <td>1.10333</td>\n",
       "      <td>0</td>\n",
       "    </tr>\n",
       "    <tr>\n",
       "      <td>1</td>\n",
       "      <td>0.46676</td>\n",
       "      <td>-0.34321</td>\n",
       "      <td>0.51074</td>\n",
       "      <td>-1.21129</td>\n",
       "      <td>0</td>\n",
       "    </tr>\n",
       "    <tr>\n",
       "      <td>2</td>\n",
       "      <td>-0.27520</td>\n",
       "      <td>-0.36290</td>\n",
       "      <td>-1.07801</td>\n",
       "      <td>-1.04903</td>\n",
       "      <td>0</td>\n",
       "    </tr>\n",
       "    <tr>\n",
       "      <td>3</td>\n",
       "      <td>-3.06943</td>\n",
       "      <td>1.39960</td>\n",
       "      <td>-1.65189</td>\n",
       "      <td>1.01809</td>\n",
       "      <td>0</td>\n",
       "    </tr>\n",
       "    <tr>\n",
       "      <td>4</td>\n",
       "      <td>1.08295</td>\n",
       "      <td>0.35441</td>\n",
       "      <td>0.25354</td>\n",
       "      <td>-0.71040</td>\n",
       "      <td>0</td>\n",
       "    </tr>\n",
       "  </tbody>\n",
       "</table>\n",
       "</div>"
      ],
      "text/plain": [
       "       PC1      PC2      PC3      PC4  ClusterID\n",
       "0 -3.00288 -0.17952 0.71149  1.10333   0        \n",
       "1 0.46676  -0.34321 0.51074  -1.21129  0        \n",
       "2 -0.27520 -0.36290 -1.07801 -1.04903  0        \n",
       "3 -3.06943 1.39960  -1.65189 1.01809   0        \n",
       "4 1.08295  0.35441  0.25354  -0.71040  0        "
      ]
     },
     "execution_count": 625,
     "metadata": {},
     "output_type": "execute_result"
    }
   ],
   "source": [
    "df_countries_cluster_hch = pd.concat([df_pca_final.reset_index().drop('index', axis = 1), cluster_labels], axis=1)\n",
    "df_countries_cluster_hch.columns = ['PC1', 'PC2','PC3','PC4','ClusterID']\n",
    "df_countries_cluster_hch.head()"
   ]
  },
  {
   "cell_type": "code",
   "execution_count": 626,
   "metadata": {},
   "outputs": [
    {
     "data": {
      "text/plain": [
       "0    128\n",
       "1    31 \n",
       "2    3  \n",
       "3    1  \n",
       "Name: ClusterID, dtype: int64"
      ]
     },
     "execution_count": 626,
     "metadata": {},
     "output_type": "execute_result"
    }
   ],
   "source": [
    "df_countries_cluster_hch['ClusterID'].value_counts()"
   ]
  },
  {
   "cell_type": "markdown",
   "metadata": {},
   "source": [
    "#### Merge cluster dataset with the original countries dataset"
   ]
  },
  {
   "cell_type": "code",
   "execution_count": 627,
   "metadata": {},
   "outputs": [
    {
     "data": {
      "text/html": [
       "<div>\n",
       "<style scoped>\n",
       "    .dataframe tbody tr th:only-of-type {\n",
       "        vertical-align: middle;\n",
       "    }\n",
       "\n",
       "    .dataframe tbody tr th {\n",
       "        vertical-align: top;\n",
       "    }\n",
       "\n",
       "    .dataframe thead th {\n",
       "        text-align: right;\n",
       "    }\n",
       "</style>\n",
       "<table border=\"1\" class=\"dataframe\">\n",
       "  <thead>\n",
       "    <tr style=\"text-align: right;\">\n",
       "      <th></th>\n",
       "      <th>country</th>\n",
       "      <th>child_mort</th>\n",
       "      <th>exports</th>\n",
       "      <th>health</th>\n",
       "      <th>imports</th>\n",
       "      <th>income</th>\n",
       "      <th>inflation</th>\n",
       "      <th>life_expec</th>\n",
       "      <th>total_fer</th>\n",
       "      <th>gdpp</th>\n",
       "      <th>ID</th>\n",
       "      <th>PC1</th>\n",
       "      <th>PC2</th>\n",
       "      <th>PC3</th>\n",
       "      <th>PC4</th>\n",
       "      <th>ClusterID</th>\n",
       "    </tr>\n",
       "  </thead>\n",
       "  <tbody>\n",
       "    <tr>\n",
       "      <td>0</td>\n",
       "      <td>Afghanistan</td>\n",
       "      <td>90.20000</td>\n",
       "      <td>10.00000</td>\n",
       "      <td>7.58000</td>\n",
       "      <td>44.90000</td>\n",
       "      <td>1610</td>\n",
       "      <td>9.44000</td>\n",
       "      <td>56.20000</td>\n",
       "      <td>5.82000</td>\n",
       "      <td>553</td>\n",
       "      <td>100</td>\n",
       "      <td>-3.00288</td>\n",
       "      <td>-0.17952</td>\n",
       "      <td>0.71149</td>\n",
       "      <td>1.10333</td>\n",
       "      <td>0</td>\n",
       "    </tr>\n",
       "    <tr>\n",
       "      <td>1</td>\n",
       "      <td>Albania</td>\n",
       "      <td>16.60000</td>\n",
       "      <td>28.00000</td>\n",
       "      <td>6.55000</td>\n",
       "      <td>48.60000</td>\n",
       "      <td>9930</td>\n",
       "      <td>4.49000</td>\n",
       "      <td>76.30000</td>\n",
       "      <td>1.65000</td>\n",
       "      <td>4090</td>\n",
       "      <td>101</td>\n",
       "      <td>0.46676</td>\n",
       "      <td>-0.34321</td>\n",
       "      <td>0.51074</td>\n",
       "      <td>-1.21129</td>\n",
       "      <td>0</td>\n",
       "    </tr>\n",
       "    <tr>\n",
       "      <td>2</td>\n",
       "      <td>Algeria</td>\n",
       "      <td>27.30000</td>\n",
       "      <td>38.40000</td>\n",
       "      <td>4.17000</td>\n",
       "      <td>31.40000</td>\n",
       "      <td>12900</td>\n",
       "      <td>16.10000</td>\n",
       "      <td>76.50000</td>\n",
       "      <td>2.89000</td>\n",
       "      <td>4460</td>\n",
       "      <td>102</td>\n",
       "      <td>-0.27520</td>\n",
       "      <td>-0.36290</td>\n",
       "      <td>-1.07801</td>\n",
       "      <td>-1.04903</td>\n",
       "      <td>0</td>\n",
       "    </tr>\n",
       "    <tr>\n",
       "      <td>3</td>\n",
       "      <td>Angola</td>\n",
       "      <td>119.00000</td>\n",
       "      <td>62.30000</td>\n",
       "      <td>2.85000</td>\n",
       "      <td>42.90000</td>\n",
       "      <td>5900</td>\n",
       "      <td>22.40000</td>\n",
       "      <td>60.10000</td>\n",
       "      <td>6.16000</td>\n",
       "      <td>3530</td>\n",
       "      <td>103</td>\n",
       "      <td>-3.06943</td>\n",
       "      <td>1.39960</td>\n",
       "      <td>-1.65189</td>\n",
       "      <td>1.01809</td>\n",
       "      <td>0</td>\n",
       "    </tr>\n",
       "    <tr>\n",
       "      <td>4</td>\n",
       "      <td>Antigua and Barbuda</td>\n",
       "      <td>10.30000</td>\n",
       "      <td>45.50000</td>\n",
       "      <td>6.03000</td>\n",
       "      <td>58.90000</td>\n",
       "      <td>19100</td>\n",
       "      <td>1.44000</td>\n",
       "      <td>76.80000</td>\n",
       "      <td>2.13000</td>\n",
       "      <td>12200</td>\n",
       "      <td>104</td>\n",
       "      <td>1.08295</td>\n",
       "      <td>0.35441</td>\n",
       "      <td>0.25354</td>\n",
       "      <td>-0.71040</td>\n",
       "      <td>0</td>\n",
       "    </tr>\n",
       "  </tbody>\n",
       "</table>\n",
       "</div>"
      ],
      "text/plain": [
       "               country  child_mort  exports  health  imports  income  \\\n",
       "0  Afghanistan         90.20000    10.00000 7.58000 44.90000  1610     \n",
       "1  Albania             16.60000    28.00000 6.55000 48.60000  9930     \n",
       "2  Algeria             27.30000    38.40000 4.17000 31.40000  12900    \n",
       "3  Angola              119.00000   62.30000 2.85000 42.90000  5900     \n",
       "4  Antigua and Barbuda 10.30000    45.50000 6.03000 58.90000  19100    \n",
       "\n",
       "   inflation  life_expec  total_fer   gdpp   ID      PC1      PC2      PC3  \\\n",
       "0 9.44000    56.20000    5.82000     553    100 -3.00288 -0.17952 0.71149    \n",
       "1 4.49000    76.30000    1.65000     4090   101 0.46676  -0.34321 0.51074    \n",
       "2 16.10000   76.50000    2.89000     4460   102 -0.27520 -0.36290 -1.07801   \n",
       "3 22.40000   60.10000    6.16000     3530   103 -3.06943 1.39960  -1.65189   \n",
       "4 1.44000    76.80000    2.13000     12200  104 1.08295  0.35441  0.25354    \n",
       "\n",
       "       PC4  ClusterID  \n",
       "0 1.10333   0          \n",
       "1 -1.21129  0          \n",
       "2 -1.04903  0          \n",
       "3 1.01809   0          \n",
       "4 -0.71040  0          "
      ]
     },
     "execution_count": 627,
     "metadata": {},
     "output_type": "execute_result"
    }
   ],
   "source": [
    "# Merge df_countries_cluster dataset with original df_countries dataset\n",
    "df_merged_hch = pd.merge(df_countries.reset_index().drop('index', axis = 1),df_countries_cluster_hch,left_index=True,right_index=True )\n",
    "df_merged_hch.head()"
   ]
  },
  {
   "cell_type": "markdown",
   "metadata": {},
   "source": [
    "Drop PCA columns which are not required fro further cluster analysis."
   ]
  },
  {
   "cell_type": "code",
   "execution_count": 628,
   "metadata": {},
   "outputs": [
    {
     "data": {
      "text/html": [
       "<div>\n",
       "<style scoped>\n",
       "    .dataframe tbody tr th:only-of-type {\n",
       "        vertical-align: middle;\n",
       "    }\n",
       "\n",
       "    .dataframe tbody tr th {\n",
       "        vertical-align: top;\n",
       "    }\n",
       "\n",
       "    .dataframe thead th {\n",
       "        text-align: right;\n",
       "    }\n",
       "</style>\n",
       "<table border=\"1\" class=\"dataframe\">\n",
       "  <thead>\n",
       "    <tr style=\"text-align: right;\">\n",
       "      <th></th>\n",
       "      <th>country</th>\n",
       "      <th>child_mort</th>\n",
       "      <th>exports</th>\n",
       "      <th>health</th>\n",
       "      <th>imports</th>\n",
       "      <th>income</th>\n",
       "      <th>inflation</th>\n",
       "      <th>life_expec</th>\n",
       "      <th>total_fer</th>\n",
       "      <th>gdpp</th>\n",
       "      <th>ID</th>\n",
       "      <th>ClusterID</th>\n",
       "    </tr>\n",
       "  </thead>\n",
       "  <tbody>\n",
       "    <tr>\n",
       "      <td>0</td>\n",
       "      <td>Afghanistan</td>\n",
       "      <td>90.20000</td>\n",
       "      <td>10.00000</td>\n",
       "      <td>7.58000</td>\n",
       "      <td>44.90000</td>\n",
       "      <td>1610</td>\n",
       "      <td>9.44000</td>\n",
       "      <td>56.20000</td>\n",
       "      <td>5.82000</td>\n",
       "      <td>553</td>\n",
       "      <td>100</td>\n",
       "      <td>0</td>\n",
       "    </tr>\n",
       "    <tr>\n",
       "      <td>1</td>\n",
       "      <td>Albania</td>\n",
       "      <td>16.60000</td>\n",
       "      <td>28.00000</td>\n",
       "      <td>6.55000</td>\n",
       "      <td>48.60000</td>\n",
       "      <td>9930</td>\n",
       "      <td>4.49000</td>\n",
       "      <td>76.30000</td>\n",
       "      <td>1.65000</td>\n",
       "      <td>4090</td>\n",
       "      <td>101</td>\n",
       "      <td>0</td>\n",
       "    </tr>\n",
       "    <tr>\n",
       "      <td>2</td>\n",
       "      <td>Algeria</td>\n",
       "      <td>27.30000</td>\n",
       "      <td>38.40000</td>\n",
       "      <td>4.17000</td>\n",
       "      <td>31.40000</td>\n",
       "      <td>12900</td>\n",
       "      <td>16.10000</td>\n",
       "      <td>76.50000</td>\n",
       "      <td>2.89000</td>\n",
       "      <td>4460</td>\n",
       "      <td>102</td>\n",
       "      <td>0</td>\n",
       "    </tr>\n",
       "    <tr>\n",
       "      <td>3</td>\n",
       "      <td>Angola</td>\n",
       "      <td>119.00000</td>\n",
       "      <td>62.30000</td>\n",
       "      <td>2.85000</td>\n",
       "      <td>42.90000</td>\n",
       "      <td>5900</td>\n",
       "      <td>22.40000</td>\n",
       "      <td>60.10000</td>\n",
       "      <td>6.16000</td>\n",
       "      <td>3530</td>\n",
       "      <td>103</td>\n",
       "      <td>0</td>\n",
       "    </tr>\n",
       "    <tr>\n",
       "      <td>4</td>\n",
       "      <td>Antigua and Barbuda</td>\n",
       "      <td>10.30000</td>\n",
       "      <td>45.50000</td>\n",
       "      <td>6.03000</td>\n",
       "      <td>58.90000</td>\n",
       "      <td>19100</td>\n",
       "      <td>1.44000</td>\n",
       "      <td>76.80000</td>\n",
       "      <td>2.13000</td>\n",
       "      <td>12200</td>\n",
       "      <td>104</td>\n",
       "      <td>0</td>\n",
       "    </tr>\n",
       "  </tbody>\n",
       "</table>\n",
       "</div>"
      ],
      "text/plain": [
       "               country  child_mort  exports  health  imports  income  \\\n",
       "0  Afghanistan         90.20000    10.00000 7.58000 44.90000  1610     \n",
       "1  Albania             16.60000    28.00000 6.55000 48.60000  9930     \n",
       "2  Algeria             27.30000    38.40000 4.17000 31.40000  12900    \n",
       "3  Angola              119.00000   62.30000 2.85000 42.90000  5900     \n",
       "4  Antigua and Barbuda 10.30000    45.50000 6.03000 58.90000  19100    \n",
       "\n",
       "   inflation  life_expec  total_fer   gdpp   ID  ClusterID  \n",
       "0 9.44000    56.20000    5.82000     553    100  0          \n",
       "1 4.49000    76.30000    1.65000     4090   101  0          \n",
       "2 16.10000   76.50000    2.89000     4460   102  0          \n",
       "3 22.40000   60.10000    6.16000     3530   103  0          \n",
       "4 1.44000    76.80000    2.13000     12200  104  0          "
      ]
     },
     "execution_count": 628,
     "metadata": {},
     "output_type": "execute_result"
    }
   ],
   "source": [
    "df_merged_hch.drop(['PC1','PC2','PC3','PC4'], axis=1, inplace=True)\n",
    "df_merged_hch.head()"
   ]
  },
  {
   "cell_type": "markdown",
   "metadata": {},
   "source": [
    "Create dataframes by calculating Means for columns to compare with cluster formed"
   ]
  },
  {
   "cell_type": "code",
   "execution_count": 631,
   "metadata": {},
   "outputs": [],
   "source": [
    "df_child_mort_mean = pd.DataFrame(df_merged_hch.groupby([\"ClusterID\"]).child_mort.mean())\n",
    "df_exports_mean= pd.DataFrame(df_merged_hch.groupby([\"ClusterID\"]).exports.mean())\n",
    "df_health_mean = pd.DataFrame(df_merged_hch.groupby([\"ClusterID\"]).health.mean())\n",
    "df_imports_mean = pd.DataFrame(df_merged_hch.groupby([\"ClusterID\"]).imports.mean())\n",
    "df_income_mean = pd.DataFrame(df_merged_hch.groupby([\"ClusterID\"]).income.mean())\n",
    "df_inflat_mean = pd.DataFrame(df_merged_hch.groupby([\"ClusterID\"]).inflation.mean())\n",
    "df_life_expec_mean = pd.DataFrame(df_merged_hch.groupby([\"ClusterID\"]).life_expec.mean())\n",
    "df_total_fer_mean = pd.DataFrame(df_merged_hch.groupby([\"ClusterID\"]).total_fer.mean())\n",
    "df_gdpp_mean = pd.DataFrame(df_merged_hch.groupby([\"ClusterID\"]).gdpp.mean())"
   ]
  },
  {
   "cell_type": "markdown",
   "metadata": {},
   "source": [
    "Merge dataframes with mean values for analysis"
   ]
  },
  {
   "cell_type": "code",
   "execution_count": 632,
   "metadata": {},
   "outputs": [],
   "source": [
    "df_cluster_analysis = pd.concat([pd.Series([0,1,2,3]),df_child_mort_mean,df_exports_mean, \\\n",
    "                                 df_health_mean,df_imports_mean,df_income_mean,df_inflat_mean, \\\n",
    "                                 df_life_expec_mean,df_total_fer_mean,df_gdpp_mean], axis=1)"
   ]
  },
  {
   "cell_type": "markdown",
   "metadata": {},
   "source": [
    "Reorder the columns for cluster analysis dataframe"
   ]
  },
  {
   "cell_type": "code",
   "execution_count": 633,
   "metadata": {},
   "outputs": [
    {
     "data": {
      "text/html": [
       "<div>\n",
       "<style scoped>\n",
       "    .dataframe tbody tr th:only-of-type {\n",
       "        vertical-align: middle;\n",
       "    }\n",
       "\n",
       "    .dataframe tbody tr th {\n",
       "        vertical-align: top;\n",
       "    }\n",
       "\n",
       "    .dataframe thead th {\n",
       "        text-align: right;\n",
       "    }\n",
       "</style>\n",
       "<table border=\"1\" class=\"dataframe\">\n",
       "  <thead>\n",
       "    <tr style=\"text-align: right;\">\n",
       "      <th></th>\n",
       "      <th>ClusterID</th>\n",
       "      <th>child_mort_mean</th>\n",
       "      <th>exports_mean</th>\n",
       "      <th>health_mean</th>\n",
       "      <th>imports_mean</th>\n",
       "      <th>income_mean</th>\n",
       "      <th>inflation_mean</th>\n",
       "      <th>life_expec_mean</th>\n",
       "      <th>total_fer_mean</th>\n",
       "      <th>gdpp_mean</th>\n",
       "    </tr>\n",
       "  </thead>\n",
       "  <tbody>\n",
       "    <tr>\n",
       "      <td>0</td>\n",
       "      <td>0</td>\n",
       "      <td>40.82109</td>\n",
       "      <td>40.27023</td>\n",
       "      <td>6.78508</td>\n",
       "      <td>46.67891</td>\n",
       "      <td>16589.32031</td>\n",
       "      <td>8.01253</td>\n",
       "      <td>70.26406</td>\n",
       "      <td>2.99867</td>\n",
       "      <td>12284.46094</td>\n",
       "    </tr>\n",
       "    <tr>\n",
       "      <td>1</td>\n",
       "      <td>1</td>\n",
       "      <td>28.64839</td>\n",
       "      <td>42.90674</td>\n",
       "      <td>7.04806</td>\n",
       "      <td>47.24729</td>\n",
       "      <td>20541.93548</td>\n",
       "      <td>5.37658</td>\n",
       "      <td>71.94516</td>\n",
       "      <td>2.60161</td>\n",
       "      <td>16490.41935</td>\n",
       "    </tr>\n",
       "    <tr>\n",
       "      <td>2</td>\n",
       "      <td>2</td>\n",
       "      <td>31.20000</td>\n",
       "      <td>47.00000</td>\n",
       "      <td>5.50667</td>\n",
       "      <td>54.80000</td>\n",
       "      <td>9560.00000</td>\n",
       "      <td>3.61333</td>\n",
       "      <td>70.00000</td>\n",
       "      <td>3.85000</td>\n",
       "      <td>4506.66667</td>\n",
       "    </tr>\n",
       "    <tr>\n",
       "      <td>3</td>\n",
       "      <td>3</td>\n",
       "      <td>4.50000</td>\n",
       "      <td>72.00000</td>\n",
       "      <td>11.90000</td>\n",
       "      <td>63.60000</td>\n",
       "      <td>45500.00000</td>\n",
       "      <td>0.84800</td>\n",
       "      <td>80.70000</td>\n",
       "      <td>1.79000</td>\n",
       "      <td>50300.00000</td>\n",
       "    </tr>\n",
       "  </tbody>\n",
       "</table>\n",
       "</div>"
      ],
      "text/plain": [
       "   ClusterID  child_mort_mean  exports_mean  health_mean  imports_mean  \\\n",
       "0  0         40.82109         40.27023      6.78508      46.67891        \n",
       "1  1         28.64839         42.90674      7.04806      47.24729        \n",
       "2  2         31.20000         47.00000      5.50667      54.80000        \n",
       "3  3         4.50000          72.00000      11.90000     63.60000        \n",
       "\n",
       "   income_mean  inflation_mean  life_expec_mean  total_fer_mean   gdpp_mean  \n",
       "0 16589.32031  8.01253         70.26406         2.99867         12284.46094  \n",
       "1 20541.93548  5.37658         71.94516         2.60161         16490.41935  \n",
       "2 9560.00000   3.61333         70.00000         3.85000         4506.66667   \n",
       "3 45500.00000  0.84800         80.70000         1.79000         50300.00000  "
      ]
     },
     "execution_count": 633,
     "metadata": {},
     "output_type": "execute_result"
    }
   ],
   "source": [
    "df_cluster_analysis.columns = [\"ClusterID\",\"child_mort_mean\",\"exports_mean\",\"health_mean\",\"imports_mean\",\"income_mean\",\"inflation_mean\",\"life_expec_mean\",\"total_fer_mean\",\"gdpp_mean\"]\n",
    "df_cluster_analysis"
   ]
  },
  {
   "cell_type": "markdown",
   "metadata": {},
   "source": [
    "#### Cluster analysis for Net income per person, Inflation rate and Gdpp"
   ]
  },
  {
   "cell_type": "code",
   "execution_count": 657,
   "metadata": {},
   "outputs": [
    {
     "data": {
      "image/png": "[encoded data removed]",
      "text/plain": [
       "<Figure size 1296x1296 with 9 Axes>"
      ]
     },
     "metadata": {
      "needs_background": "light"
     },
     "output_type": "display_data"
    }
   ],
   "source": [
    "plt.figure(figsize = (18,18))\n",
    "plt.figure(1)\n",
    "\n",
    "def plot_bar_chart(chartindex,field):\n",
    "    plt.subplot(3, 3, chartindex)\n",
    "    plt.title(field)\n",
    "    sns.barplot(df_cluster_analysis.ClusterID, df_cluster_analysis[field])\n",
    "\n",
    "plot_bar_chart(1,'income_mean')\n",
    "plot_bar_chart(2,'inflation_mean')\n",
    "plot_bar_chart(3,'gdpp_mean')\n",
    "plot_bar_chart(4,'child_mort_mean')\n",
    "plot_bar_chart(5,'life_expec_mean')\n",
    "plot_bar_chart(6,'total_fer_mean')\n",
    "plot_bar_chart(7,'exports_mean')\n",
    "plot_bar_chart(8,'imports_mean')\n",
    "plot_bar_chart(9,'health_mean')"
   ]
  },
  {
   "cell_type": "markdown",
   "metadata": {},
   "source": [
    "#### <u>Analysis Summary</u>:\n",
    "<u>Note:</u> Since, Cluster 2 contains only 3 countries and Cluster 3 contains single country, for overall comparison below, we have focused in Cluster 0 and 1.\n",
    "Based on the analysis of bar plots above for various features, cluster 0 contains the countries which needs to be focus for deriving the countries which are in direst need of aid due to below considerations.\n",
    "- Higher child mortality\n",
    "- Lower net income per person and Gdpp (when compare with Cluster 1)\n",
    "- Highest Inflation\n",
    "- Comparatively low life expectancy \n",
    "- Higher total fertility (when compare with Cluster 1)"
   ]
  },
  {
   "cell_type": "code",
   "execution_count": 658,
   "metadata": {},
   "outputs": [
    {
     "data": {
      "text/html": [
       "<div>\n",
       "<style scoped>\n",
       "    .dataframe tbody tr th:only-of-type {\n",
       "        vertical-align: middle;\n",
       "    }\n",
       "\n",
       "    .dataframe tbody tr th {\n",
       "        vertical-align: top;\n",
       "    }\n",
       "\n",
       "    .dataframe thead th {\n",
       "        text-align: right;\n",
       "    }\n",
       "</style>\n",
       "<table border=\"1\" class=\"dataframe\">\n",
       "  <thead>\n",
       "    <tr style=\"text-align: right;\">\n",
       "      <th></th>\n",
       "      <th>country</th>\n",
       "      <th>child_mort</th>\n",
       "      <th>exports</th>\n",
       "      <th>health</th>\n",
       "      <th>imports</th>\n",
       "      <th>income</th>\n",
       "      <th>inflation</th>\n",
       "      <th>life_expec</th>\n",
       "      <th>total_fer</th>\n",
       "      <th>gdpp</th>\n",
       "      <th>ID</th>\n",
       "      <th>ClusterID</th>\n",
       "    </tr>\n",
       "  </thead>\n",
       "  <tbody>\n",
       "    <tr>\n",
       "      <td>26</td>\n",
       "      <td>Burundi</td>\n",
       "      <td>93.60000</td>\n",
       "      <td>8.92000</td>\n",
       "      <td>11.60000</td>\n",
       "      <td>39.20000</td>\n",
       "      <td>764</td>\n",
       "      <td>12.30000</td>\n",
       "      <td>57.70000</td>\n",
       "      <td>6.26000</td>\n",
       "      <td>231</td>\n",
       "      <td>126</td>\n",
       "      <td>0</td>\n",
       "    </tr>\n",
       "    <tr>\n",
       "      <td>88</td>\n",
       "      <td>Liberia</td>\n",
       "      <td>89.30000</td>\n",
       "      <td>19.10000</td>\n",
       "      <td>11.80000</td>\n",
       "      <td>92.60000</td>\n",
       "      <td>700</td>\n",
       "      <td>5.47000</td>\n",
       "      <td>60.80000</td>\n",
       "      <td>5.02000</td>\n",
       "      <td>327</td>\n",
       "      <td>188</td>\n",
       "      <td>0</td>\n",
       "    </tr>\n",
       "    <tr>\n",
       "      <td>37</td>\n",
       "      <td>Congo, Dem. Rep.</td>\n",
       "      <td>116.00000</td>\n",
       "      <td>41.10000</td>\n",
       "      <td>7.91000</td>\n",
       "      <td>49.60000</td>\n",
       "      <td>609</td>\n",
       "      <td>20.80000</td>\n",
       "      <td>57.50000</td>\n",
       "      <td>6.54000</td>\n",
       "      <td>334</td>\n",
       "      <td>137</td>\n",
       "      <td>0</td>\n",
       "    </tr>\n",
       "    <tr>\n",
       "      <td>112</td>\n",
       "      <td>Niger</td>\n",
       "      <td>123.00000</td>\n",
       "      <td>22.20000</td>\n",
       "      <td>5.16000</td>\n",
       "      <td>49.10000</td>\n",
       "      <td>814</td>\n",
       "      <td>2.55000</td>\n",
       "      <td>58.80000</td>\n",
       "      <td>7.49000</td>\n",
       "      <td>348</td>\n",
       "      <td>212</td>\n",
       "      <td>0</td>\n",
       "    </tr>\n",
       "    <tr>\n",
       "      <td>132</td>\n",
       "      <td>Sierra Leone</td>\n",
       "      <td>160.00000</td>\n",
       "      <td>16.80000</td>\n",
       "      <td>13.10000</td>\n",
       "      <td>34.50000</td>\n",
       "      <td>1220</td>\n",
       "      <td>17.20000</td>\n",
       "      <td>55.00000</td>\n",
       "      <td>5.20000</td>\n",
       "      <td>399</td>\n",
       "      <td>232</td>\n",
       "      <td>0</td>\n",
       "    </tr>\n",
       "    <tr>\n",
       "      <td>93</td>\n",
       "      <td>Madagascar</td>\n",
       "      <td>62.20000</td>\n",
       "      <td>25.00000</td>\n",
       "      <td>3.77000</td>\n",
       "      <td>43.00000</td>\n",
       "      <td>1390</td>\n",
       "      <td>8.79000</td>\n",
       "      <td>60.80000</td>\n",
       "      <td>4.60000</td>\n",
       "      <td>413</td>\n",
       "      <td>193</td>\n",
       "      <td>0</td>\n",
       "    </tr>\n",
       "    <tr>\n",
       "      <td>106</td>\n",
       "      <td>Mozambique</td>\n",
       "      <td>101.00000</td>\n",
       "      <td>31.50000</td>\n",
       "      <td>5.21000</td>\n",
       "      <td>46.20000</td>\n",
       "      <td>918</td>\n",
       "      <td>7.64000</td>\n",
       "      <td>54.50000</td>\n",
       "      <td>5.56000</td>\n",
       "      <td>419</td>\n",
       "      <td>206</td>\n",
       "      <td>0</td>\n",
       "    </tr>\n",
       "    <tr>\n",
       "      <td>31</td>\n",
       "      <td>Central African Republic</td>\n",
       "      <td>149.00000</td>\n",
       "      <td>11.80000</td>\n",
       "      <td>3.98000</td>\n",
       "      <td>26.50000</td>\n",
       "      <td>888</td>\n",
       "      <td>2.01000</td>\n",
       "      <td>47.50000</td>\n",
       "      <td>5.21000</td>\n",
       "      <td>446</td>\n",
       "      <td>131</td>\n",
       "      <td>0</td>\n",
       "    </tr>\n",
       "    <tr>\n",
       "      <td>94</td>\n",
       "      <td>Malawi</td>\n",
       "      <td>90.50000</td>\n",
       "      <td>22.80000</td>\n",
       "      <td>6.59000</td>\n",
       "      <td>34.90000</td>\n",
       "      <td>1030</td>\n",
       "      <td>12.10000</td>\n",
       "      <td>53.10000</td>\n",
       "      <td>5.31000</td>\n",
       "      <td>459</td>\n",
       "      <td>194</td>\n",
       "      <td>0</td>\n",
       "    </tr>\n",
       "    <tr>\n",
       "      <td>50</td>\n",
       "      <td>Eritrea</td>\n",
       "      <td>55.20000</td>\n",
       "      <td>4.79000</td>\n",
       "      <td>2.66000</td>\n",
       "      <td>23.30000</td>\n",
       "      <td>1420</td>\n",
       "      <td>11.60000</td>\n",
       "      <td>61.70000</td>\n",
       "      <td>4.61000</td>\n",
       "      <td>482</td>\n",
       "      <td>150</td>\n",
       "      <td>0</td>\n",
       "    </tr>\n",
       "  </tbody>\n",
       "</table>\n",
       "</div>"
      ],
      "text/plain": [
       "                      country  child_mort  exports   health  imports  income  \\\n",
       "26   Burundi                  93.60000    8.92000  11.60000 39.20000  764      \n",
       "88   Liberia                  89.30000    19.10000 11.80000 92.60000  700      \n",
       "37   Congo, Dem. Rep.         116.00000   41.10000 7.91000  49.60000  609      \n",
       "112  Niger                    123.00000   22.20000 5.16000  49.10000  814      \n",
       "132  Sierra Leone             160.00000   16.80000 13.10000 34.50000  1220     \n",
       "93   Madagascar               62.20000    25.00000 3.77000  43.00000  1390     \n",
       "106  Mozambique               101.00000   31.50000 5.21000  46.20000  918      \n",
       "31   Central African Republic 149.00000   11.80000 3.98000  26.50000  888      \n",
       "94   Malawi                   90.50000    22.80000 6.59000  34.90000  1030     \n",
       "50   Eritrea                  55.20000    4.79000  2.66000  23.30000  1420     \n",
       "\n",
       "     inflation  life_expec  total_fer  gdpp   ID  ClusterID  \n",
       "26  12.30000   57.70000    6.26000     231   126  0          \n",
       "88  5.47000    60.80000    5.02000     327   188  0          \n",
       "37  20.80000   57.50000    6.54000     334   137  0          \n",
       "112 2.55000    58.80000    7.49000     348   212  0          \n",
       "132 17.20000   55.00000    5.20000     399   232  0          \n",
       "93  8.79000    60.80000    4.60000     413   193  0          \n",
       "106 7.64000    54.50000    5.56000     419   206  0          \n",
       "31  2.01000    47.50000    5.21000     446   131  0          \n",
       "94  12.10000   53.10000    5.31000     459   194  0          \n",
       "50  11.60000   61.70000    4.61000     482   150  0          "
      ]
     },
     "execution_count": 658,
     "metadata": {},
     "output_type": "execute_result"
    }
   ],
   "source": [
    "# Filter the dataframe to get the countries part of Cluster 0\n",
    "df_focus_cluster = df_merged_hch[df_merged_hch['ClusterID']==0]\n",
    "# Sort DF to get top 10 countries as per the above mentioned criteria for direst need of aid.\n",
    "df_focus_cluster.sort_values(['gdpp','income','child_mort','health','inflation','life_expec','total_fer','imports','exports'], \n",
    "                      ascending=[True,True,False,True,False,True,False,False,True]).head(10)"
   ]
  },
  {
   "cell_type": "markdown",
   "metadata": {},
   "source": [
    "\n",
    "## <font color=blue> Section 7: Final Analysis Summary </font>"
   ]
  },
  {
   "cell_type": "markdown",
   "metadata": {},
   "source": [
    "<font color=blue>\n",
    "We used two types of clustering models - K-means and Hierarchical Clustering to first identify the cluster which can segregate  the countries  based on socio-economic and health factors.\n",
    "\n",
    "We have then considered the top 10 countries which are in direst need of aid based on the socio-economic and health factors that determine the overall development of the country. Following factors taken into considerations to decide the top 10 countries which require aid on priority bais.\n",
    "\n",
    "- Child mortality rate is high.\n",
    "- Life expectancy is low\n",
    "- Countries with lower net income per person \n",
    "- Countries with lower Gdpp rate.\n",
    "\n",
    "As per Hierarchical Clustering, the countries which require aid are:\n",
    "1. Burundi\n",
    "2. Liberia\n",
    "3. Congo, Dem. Rep\n",
    "4. Niger\n",
    "5. Sierra Leone\n",
    "6. Madagascar\n",
    "7. Mozambique\n",
    "8. Central African Republic\n",
    "9. Malawi\n",
    "10. Eritrea\n",
    "\n",
    "#### The same top 10 countries are suggested by K-Means clustering which are in critical need of aid. Hence, we would like to  recommend these 10 countries as our final list of countries to CEO of Health International for further decision making.\n",
    "</font>"
   ]
  },
  {
   "cell_type": "code",
   "execution_count": null,
   "metadata": {},
   "outputs": [],
   "source": []
  },
  {
   "cell_type": "code",
   "execution_count": null,
   "metadata": {},
   "outputs": [],
   "source": []
  }
 ],
 "metadata": {
  "kernelspec": {
   "display_name": "Python 3",
   "language": "python",
   "name": "python3"
  },
  "language_info": {
   "codemirror_mode": {
    "name": "ipython",
    "version": 3
   },
   "file_extension": ".py",
   "mimetype": "text/x-python",
   "name": "python",
   "nbconvert_exporter": "python",
   "pygments_lexer": "ipython3",
   "version": "3.7.4"
  }
 },
 "nbformat": 4,
 "nbformat_minor": 1
}
